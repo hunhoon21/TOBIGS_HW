{
 "cells": [
  {
   "cell_type": "markdown",
   "metadata": {},
   "source": [
    "## Logistic Regression 에서 MLE에 대한 GD 구현"
   ]
  },
  {
   "cell_type": "markdown",
   "metadata": {},
   "source": [
    "### Chain Rule 정리  \n",
    "\n",
    "$ h = W_{1}X_{1} + W_{2}X_{2} + b  $  \n",
    "$ p = \\frac{1}{1 + exp(-h)}  $  \n",
    "$ L^* =  \\sum_{i}^{N}{t_{i} log(p) + (1-t_{i})log(1-p) } $  \n",
    "$ J^* = - \\sum_{i}^{N}{t_{i} log(p) + (1-t_{i})log(1-p) } $  \n",
    "\n",
    "$ \\frac{\\partial{J^*}}{\\partial{p}} = - \\frac{1}{N} \\sum_{i}^{N}{( \\frac{t_i}{p_i} - \\frac{1-t_i}{1-p_i} )} $  \n",
    "$ \\frac{\\partial{p_i}}{\\partial{h}} = p_i(1-p_i)$  \n",
    "$ \\frac{\\partial{h}}{\\partial{W_i}} = X_i $  \n",
    "$ \\frac{\\partial{h}}{\\partial{b}} = 1 $  \n",
    "$ \\frac{\\partial{J^*}}{\\partial{W}} = \\sum_{i}^{N}{X^T  (P - T)}$  \n",
    "$ \\frac{\\partial{J^*}}{\\partial{W_i}} = \\frac{1}{N}  X_i^T  (P_i - T_i) $"
   ]
  },
  {
   "cell_type": "code",
   "execution_count": 67,
   "metadata": {},
   "outputs": [],
   "source": [
    "import pandas as pd\n",
    "import numpy as np\n",
    "import matplotlib.pyplot as plt\n",
    "\n",
    "from IPython.core.interactiveshell import InteractiveShell\n",
    "InteractiveShell.ast_node_interactivity = \"all\""
   ]
  },
  {
   "cell_type": "code",
   "execution_count": 68,
   "metadata": {},
   "outputs": [],
   "source": [
    "class Logistic:\n",
    "    def __init__(self):\n",
    "        \n",
    "        self.params = {}\n",
    "        self.params['W'] = 0.01 * np.random.randn(2, 1)\n",
    "        self.params['b'] = np.ones(1)\n",
    "    def forward(self, X):\n",
    "        #Sigmoid 함수\n",
    "        W = self.params['W']\n",
    "        b = self.params['b']\n",
    "        h = np.dot(X, W) + b\n",
    "        p = 1 / (1 + np.exp(-h))\n",
    "        \n",
    "        return p\n",
    "    \n",
    "    def loss(self, X, T):\n",
    "        \n",
    "        p = self.forward(X)\n",
    "        \n",
    "        #Log_Likelihood\n",
    "        L = np.dot(T.reshape(1,200), np.log(p)) + np.dot(1 - T.reshape(1,200), np.log(1 - p))\n",
    "        L = np.squeeze(L)\n",
    "        #for i in range(len(X)):\n",
    "        #for문으로 각 데이터의 Log_Likelihood를 더해준다.\n",
    "        #    L += ( T[i] * np.log(p[i]) + (1 - T[i]) * np.log(1 - p[i]) )\n",
    "        \n",
    "        #목적함수는 -Log_Likelihood\n",
    "        return -L\n",
    "    \n",
    "    def gradient(self, X, T, learning_rate = 0.0001):\n",
    "        \n",
    "        p = self.forward(X)\n",
    "        #T = np.array(T)\n",
    "        T = T.reshape(-1,1)\n",
    "        #목적함수에 대한 가중치 미분값을 담을 zero array 생성\n",
    "        grads = {}\n",
    "        grads['W'] = np.zeros((2, 1))\n",
    "        grads['b'] = np.zeros(1)\n",
    "        \n",
    "        #목적함수에 대한 가중치 미분값 합 구하기\n",
    "        grads['W'] = (1/len(T)) * -np.dot(X.T, T-p)\n",
    "        grads['b'] = (1/len(T)) * -np.sum((T - T*p) - (p - T*p))\n",
    "#         for i in range(len(X)):\n",
    "#             #for문으로 가중치에 대한 목적함수 미분 값 모두 더하기\n",
    "#             grads['W'] -= ((T[i] * (1-p[i])) - ((1-T[i]) * p[i])) * X[i].reshape(2,1)\n",
    "#             #print(i, \":  \", grads['W'])\n",
    "#             grads['b'] -= ((T[i] * (1-p[i])) - ((1-T[i]) * p[i])) * 1\n",
    "            \n",
    "#             if i == len(X) - 1:\n",
    "#                 grads['W'] /= len(X)\n",
    "#                 grads['b'] /= len(X)\n",
    "        self.params['W'] -= learning_rate * grads['W']\n",
    "        self.params['b'] -= learning_rate * grads['b']"
   ]
  },
  {
   "cell_type": "code",
   "execution_count": 69,
   "metadata": {},
   "outputs": [
    {
     "data": {
      "text/html": [
       "<div>\n",
       "<style scoped>\n",
       "    .dataframe tbody tr th:only-of-type {\n",
       "        vertical-align: middle;\n",
       "    }\n",
       "\n",
       "    .dataframe tbody tr th {\n",
       "        vertical-align: top;\n",
       "    }\n",
       "\n",
       "    .dataframe thead th {\n",
       "        text-align: right;\n",
       "    }\n",
       "</style>\n",
       "<table border=\"1\" class=\"dataframe\">\n",
       "  <thead>\n",
       "    <tr style=\"text-align: right;\">\n",
       "      <th></th>\n",
       "      <th>Label</th>\n",
       "      <th>bias</th>\n",
       "      <th>experience</th>\n",
       "      <th>salary</th>\n",
       "    </tr>\n",
       "  </thead>\n",
       "  <tbody>\n",
       "    <tr>\n",
       "      <th>0</th>\n",
       "      <td>1</td>\n",
       "      <td>1</td>\n",
       "      <td>0.7</td>\n",
       "      <td>48000</td>\n",
       "    </tr>\n",
       "    <tr>\n",
       "      <th>1</th>\n",
       "      <td>0</td>\n",
       "      <td>1</td>\n",
       "      <td>1.9</td>\n",
       "      <td>48000</td>\n",
       "    </tr>\n",
       "    <tr>\n",
       "      <th>2</th>\n",
       "      <td>1</td>\n",
       "      <td>1</td>\n",
       "      <td>2.5</td>\n",
       "      <td>60000</td>\n",
       "    </tr>\n",
       "    <tr>\n",
       "      <th>3</th>\n",
       "      <td>0</td>\n",
       "      <td>1</td>\n",
       "      <td>4.2</td>\n",
       "      <td>63000</td>\n",
       "    </tr>\n",
       "    <tr>\n",
       "      <th>4</th>\n",
       "      <td>0</td>\n",
       "      <td>1</td>\n",
       "      <td>6.0</td>\n",
       "      <td>76000</td>\n",
       "    </tr>\n",
       "  </tbody>\n",
       "</table>\n",
       "</div>"
      ],
      "text/plain": [
       "   Label  bias  experience  salary\n",
       "0      1     1         0.7   48000\n",
       "1      0     1         1.9   48000\n",
       "2      1     1         2.5   60000\n",
       "3      0     1         4.2   63000\n",
       "4      0     1         6.0   76000"
      ]
     },
     "execution_count": 69,
     "metadata": {},
     "output_type": "execute_result"
    }
   ],
   "source": [
    "data = pd.read_csv(\"assignment_2.csv\")\n",
    "data.head()"
   ]
  },
  {
   "cell_type": "code",
   "execution_count": 70,
   "metadata": {},
   "outputs": [
    {
     "data": {
      "text/plain": [
       "(200, 4)"
      ]
     },
     "execution_count": 70,
     "metadata": {},
     "output_type": "execute_result"
    }
   ],
   "source": [
    "data.shape"
   ]
  },
  {
   "cell_type": "code",
   "execution_count": 71,
   "metadata": {},
   "outputs": [],
   "source": [
    "# filter out the applicants that got admitted\n",
    "MALE = data[data['Label']==1]\n",
    "FEMALE = data[data['Label'] == 0]"
   ]
  },
  {
   "cell_type": "code",
   "execution_count": 72,
   "metadata": {},
   "outputs": [
    {
     "data": {
      "text/plain": [
       "<matplotlib.collections.PathCollection at 0x1833f081a58>"
      ]
     },
     "execution_count": 72,
     "metadata": {},
     "output_type": "execute_result"
    },
    {
     "data": {
      "text/plain": [
       "<matplotlib.collections.PathCollection at 0x1833f081eb8>"
      ]
     },
     "execution_count": 72,
     "metadata": {},
     "output_type": "execute_result"
    },
    {
     "name": "stderr",
     "output_type": "stream",
     "text": [
      "C:\\Users\\HoonCheol\\Anaconda3\\envs\\tensorflow\\lib\\site-packages\\matplotlib\\cbook\\deprecation.py:107: MatplotlibDeprecationWarning: Adding an axes using the same arguments as a previous axes currently reuses the earlier instance.  In a future version, a new instance will always be created and returned.  Meanwhile, this warning can be suppressed, and the future behavior ensured, by passing a unique label to each axes instance.\n",
      "  warnings.warn(message, mplDeprecation, stacklevel=1)\n"
     ]
    },
    {
     "data": {
      "text/plain": [
       "Text(0.5,0,'Experience')"
      ]
     },
     "execution_count": 72,
     "metadata": {},
     "output_type": "execute_result"
    },
    {
     "data": {
      "text/plain": [
       "Text(0,0.5,'Salary')"
      ]
     },
     "execution_count": 72,
     "metadata": {},
     "output_type": "execute_result"
    },
    {
     "data": {
      "text/plain": [
       "<matplotlib.legend.Legend at 0x1833f08d5f8>"
      ]
     },
     "execution_count": 72,
     "metadata": {},
     "output_type": "execute_result"
    },
    {
     "data": {
      "image/png": "[encoded data removed]",
      "text/plain": [
       "<Figure size 432x288 with 1 Axes>"
      ]
     },
     "metadata": {},
     "output_type": "display_data"
    }
   ],
   "source": [
    "# plots\n",
    "fig = plt.figure()\n",
    "plt.scatter(MALE.iloc[:, 2], MALE.iloc[:, 3], s=10, label='Male')\n",
    "plt.scatter(FEMALE.iloc[:, 2], FEMALE.iloc[:, 3], s=10, label='Female')\n",
    "ax = fig.add_subplot(1,1,1)\n",
    "ax.set_xlabel('Experience')\n",
    "ax.set_ylabel('Salary')\n",
    "plt.legend()\n",
    "plt.show()"
   ]
  },
  {
   "cell_type": "code",
   "execution_count": 73,
   "metadata": {
    "scrolled": true
   },
   "outputs": [],
   "source": [
    "#데이터 간단 전처리\n",
    "del data[\"bias\"]\n",
    "#salary 변수는 스케일링 해준다.\n",
    "data[\"salary\"] = 0.0001 * data[\"salary\"]\n",
    "# data[\"salary\"] = (data[\"salary\"] - data[\"salary\"].mean()) / data[\"salary\"].std()\n",
    "# data[\"experience\"] = (data[\"experience\"] - data[\"experience\"].mean()) / data[\"experience\"].std()\n",
    "#input으로 넣기 쉽게끔 array화\n",
    "X = data[[\"experience\", \"salary\"]].values\n",
    "T = data[\"Label\"].values"
   ]
  },
  {
   "cell_type": "code",
   "execution_count": 74,
   "metadata": {},
   "outputs": [],
   "source": [
    "l = Logistic()"
   ]
  },
  {
   "cell_type": "code",
   "execution_count": 75,
   "metadata": {
    "scrolled": false
   },
   "outputs": [],
   "source": [
    "#l.forward(X)"
   ]
  },
  {
   "cell_type": "code",
   "execution_count": 76,
   "metadata": {},
   "outputs": [
    {
     "data": {
      "text/plain": [
       "211.36536687754275"
      ]
     },
     "execution_count": 76,
     "metadata": {},
     "output_type": "execute_result"
    }
   ],
   "source": [
    "l.loss(X, T)"
   ]
  },
  {
   "cell_type": "code",
   "execution_count": 77,
   "metadata": {
    "scrolled": false
   },
   "outputs": [
    {
     "name": "stdout",
     "output_type": "stream",
     "text": [
      "0 번째 Loss :  211.36536687754275\n",
      "10000 번째 Loss :  97.3547221129829\n",
      "20000 번째 Loss :  86.68818713463762\n",
      "30000 번째 Loss :  81.9755226136966\n",
      "40000 번째 Loss :  79.54173899247397\n",
      "50000 번째 Loss :  78.13675230581319\n",
      "60000 번째 Loss :  77.25287431065581\n",
      "70000 번째 Loss :  76.65513035837105\n",
      "80000 번째 Loss :  76.22398825726779\n",
      "90000 번째 Loss :  75.89424665618883\n"
     ]
    }
   ],
   "source": [
    "for i in range(100000):\n",
    "    if i % 10000 == 0:\n",
    "        print(i, \"번째 Loss : \", l.loss(X, T))\n",
    "    l.gradient(X, T)"
   ]
  },
  {
   "cell_type": "code",
   "execution_count": 78,
   "metadata": {},
   "outputs": [
    {
     "data": {
      "text/plain": [
       "{'W': array([[ 0.74392527],\n",
       "        [-0.94448405]]), 'b': array([1.05205428])}"
      ]
     },
     "execution_count": 78,
     "metadata": {},
     "output_type": "execute_result"
    }
   ],
   "source": [
    "l.params"
   ]
  },
  {
   "cell_type": "code",
   "execution_count": 79,
   "metadata": {},
   "outputs": [],
   "source": [
    "# filter out the applicants that got admitted\n",
    "MALE = data[data['Label']==1]\n",
    "FEMALE = data[data['Label'] == 0]"
   ]
  },
  {
   "cell_type": "code",
   "execution_count": 81,
   "metadata": {},
   "outputs": [
    {
     "data": {
      "text/plain": [
       "<matplotlib.collections.PathCollection at 0x1833f0de9e8>"
      ]
     },
     "execution_count": 81,
     "metadata": {},
     "output_type": "execute_result"
    },
    {
     "data": {
      "text/plain": [
       "<matplotlib.collections.PathCollection at 0x1833f0dee48>"
      ]
     },
     "execution_count": 81,
     "metadata": {},
     "output_type": "execute_result"
    },
    {
     "name": "stderr",
     "output_type": "stream",
     "text": [
      "C:\\Users\\HoonCheol\\Anaconda3\\envs\\tensorflow\\lib\\site-packages\\matplotlib\\cbook\\deprecation.py:107: MatplotlibDeprecationWarning: Adding an axes using the same arguments as a previous axes currently reuses the earlier instance.  In a future version, a new instance will always be created and returned.  Meanwhile, this warning can be suppressed, and the future behavior ensured, by passing a unique label to each axes instance.\n",
      "  warnings.warn(message, mplDeprecation, stacklevel=1)\n"
     ]
    },
    {
     "data": {
      "text/plain": [
       "Text(0.5,0,'Experience')"
      ]
     },
     "execution_count": 81,
     "metadata": {},
     "output_type": "execute_result"
    },
    {
     "data": {
      "text/plain": [
       "Text(0,0.5,'Salary')"
      ]
     },
     "execution_count": 81,
     "metadata": {},
     "output_type": "execute_result"
    },
    {
     "data": {
      "text/plain": [
       "[<matplotlib.lines.Line2D at 0x1833f0dedd8>]"
      ]
     },
     "execution_count": 81,
     "metadata": {},
     "output_type": "execute_result"
    },
    {
     "data": {
      "text/plain": [
       "<matplotlib.legend.Legend at 0x1833f0deda0>"
      ]
     },
     "execution_count": 81,
     "metadata": {},
     "output_type": "execute_result"
    },
    {
     "data": {
      "image/png": "[encoded data removed]",
      "text/plain": [
       "<Figure size 432x288 with 1 Axes>"
      ]
     },
     "metadata": {},
     "output_type": "display_data"
    }
   ],
   "source": [
    "# plots\n",
    "fig = plt.figure()\n",
    "plt.scatter(MALE.iloc[:, 1], MALE.iloc[:, 2], s=10, label='Male')\n",
    "plt.scatter(FEMALE.iloc[:, 1], FEMALE.iloc[:, 2], s=10, label='Female')\n",
    "\n",
    "x_axis = np.linspace(0, 10,50)\n",
    "y_axis = -(l.params['b'][0] + x_axis*l.params['W'][0]) / l.params['W'][1]\n",
    "\n",
    "ax = fig.add_subplot(1,1,1)\n",
    "ax.set_xlabel('Experience')\n",
    "ax.set_ylabel('Salary')\n",
    "plt.plot(x_axis, y_axis)\n",
    "plt.legend()\n",
    "plt.show()"
   ]
  },
  {
   "cell_type": "code",
   "execution_count": null,
   "metadata": {},
   "outputs": [],
   "source": []
  },
  {
   "cell_type": "code",
   "execution_count": null,
   "metadata": {},
   "outputs": [],
   "source": []
  }
 ],
 "metadata": {
  "kernelspec": {
   "display_name": "Python 3",
   "language": "python",
   "name": "python3"
  },
  "language_info": {
   "codemirror_mode": {
    "name": "ipython",
    "version": 3
   },
   "file_extension": ".py",
   "mimetype": "text/x-python",
   "name": "python",
   "nbconvert_exporter": "python",
   "pygments_lexer": "ipython3",
   "version": "3.6.4"
  }
 },
 "nbformat": 4,
 "nbformat_minor": 2
}
