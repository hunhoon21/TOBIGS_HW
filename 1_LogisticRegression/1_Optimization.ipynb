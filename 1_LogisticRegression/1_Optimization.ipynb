{
 "cells": [
  {
   "cell_type": "markdown",
   "metadata": {},
   "source": [
    "## Logistic Regression 에서 MLE에 대한 GD 구현"
   ]
  },
  {
   "cell_type": "markdown",
   "metadata": {},
   "source": [
    "### Chain Rule 정리  \n",
    "\n",
    "$ h = W_{1}X_{1} + W_{2}X_{2} + b  $  \n",
    "$ p = \\frac{1}{1 + exp(-h)}  $  \n",
    "$ L^* =  \\sum_{i}^{N}{t_{i} log(p) + (1-t_{i})log(1-p) } $  \n",
    "$ J^* = - \\sum_{i}^{N}{t_{i} log(p) + (1-t_{i})log(1-p) } $  \n",
    "\n",
    "$ \\frac{\\partial{J^*}}{\\partial{p}} = - \\frac{1}{N} \\sum_{i}^{N}{( \\frac{t_i}{p_i} - \\frac{1-t_i}{1-p_i} )} $  \n",
    "$ \\frac{\\partial{p_i}}{\\partial{h}} = p_i(1-p_i)$  \n",
    "$ \\frac{\\partial{h}}{\\partial{W_i}} = X_i $  \n",
    "$ \\frac{\\partial{h}}{\\partial{b}} = 1 $  \n",
    "$ \\frac{\\partial{J^*}}{\\partial{W}} = \\frac{1}{N}\\sum_{i}^{N}{X^T  (P - T)}$  \n",
    "$ \\frac{\\partial{J^*}}{\\partial{W_i}} = \\frac{1}{N} \\sum_{i}^{N}{ X_i^T  (P_i - T_i)} $"
   ]
  },
  {
   "cell_type": "code",
   "execution_count": 262,
   "metadata": {},
   "outputs": [],
   "source": [
    "import pandas as pd\n",
    "import numpy as np\n",
    "import matplotlib.pyplot as plt\n",
    "import matplotlib\n",
    "\n",
    "from IPython.core.interactiveshell import InteractiveShell\n",
    "InteractiveShell.ast_node_interactivity = \"all\""
   ]
  },
  {
   "cell_type": "code",
   "execution_count": 263,
   "metadata": {},
   "outputs": [],
   "source": [
    "class Logistic:\n",
    "    def __init__(self):\n",
    "        \n",
    "        self.params = {}\n",
    "        self.params['W'] = 0.01 * np.random.randn(2, 1)\n",
    "        self.params['b'] = np.ones(1)\n",
    "    def forward(self, X):\n",
    "        #Sigmoid 함수\n",
    "        W = self.params['W']\n",
    "        b = self.params['b']\n",
    "        h = np.dot(X, W) + b\n",
    "        p = 1 / (1 + np.exp(-h))\n",
    "        \n",
    "        return p\n",
    "    \n",
    "    def loss(self, X, T):\n",
    "        \n",
    "        p = self.forward(X)\n",
    "        \n",
    "        #Log_Likelihood\n",
    "        L = np.dot(T.reshape(1,200), np.log(p)) + np.dot(1 - T.reshape(1,200), np.log(1 - p))\n",
    "        L = np.squeeze(L)\n",
    "        #for i in range(len(X)):\n",
    "        #for문으로 각 데이터의 Log_Likelihood를 더해준다.\n",
    "        #    L += ( T[i] * np.log(p[i]) + (1 - T[i]) * np.log(1 - p[i]) )\n",
    "        \n",
    "        #목적함수는 -Log_Likelihood\n",
    "        return -L\n",
    "    \n",
    "    def accuracy(self, X, T):\n",
    "        T_hat = np.round(self.forward(X)) #예측\n",
    "        \n",
    "        return (T_hat.reshape(-1) == T).sum()/len(T)\n",
    "        \n",
    "    def gradient(self, X, T, learning_rate = 0.0001):\n",
    "        \n",
    "        p = self.forward(X)\n",
    "        #T = np.array(T)\n",
    "        T = T.reshape(-1,1)\n",
    "        #목적함수에 대한 가중치 미분값을 담을 zero array 생성\n",
    "        grads = {}\n",
    "        grads['W'] = np.zeros((2, 1))\n",
    "        grads['b'] = np.zeros(1)\n",
    "        #목적함수에 대한 가중치 미분값 합 구하기\n",
    "        grads['W'] = (1/len(T)) * -np.dot(X.T, T-p)\n",
    "        grads['b'] = (1/len(T)) * -np.sum((T - T*p) - (p - T*p))\n",
    "#         for i in range(len(X)):\n",
    "#             #for문으로 가중치에 대한 목적함수 미분 값 모두 더하기\n",
    "#             grads['W'] -= ((T[i] * (1-p[i])) - ((1-T[i]) * p[i])) * X[i].reshape(2,1)\n",
    "#             #print(i, \":  \", grads['W'])\n",
    "#             grads['b'] -= ((T[i] * (1-p[i])) - ((1-T[i]) * p[i])) * 1\n",
    "            \n",
    "#             if i == len(X) - 1:\n",
    "#                 grads['W'] /= len(X)\n",
    "#                 grads['b'] /= len(X)\n",
    "        self.params['W'] -= learning_rate * grads['W']\n",
    "        self.params['b'] -= learning_rate * grads['b']"
   ]
  },
  {
   "cell_type": "code",
   "execution_count": 264,
   "metadata": {},
   "outputs": [
    {
     "data": {
      "text/html": [
       "<div>\n",
       "<style scoped>\n",
       "    .dataframe tbody tr th:only-of-type {\n",
       "        vertical-align: middle;\n",
       "    }\n",
       "\n",
       "    .dataframe tbody tr th {\n",
       "        vertical-align: top;\n",
       "    }\n",
       "\n",
       "    .dataframe thead th {\n",
       "        text-align: right;\n",
       "    }\n",
       "</style>\n",
       "<table border=\"1\" class=\"dataframe\">\n",
       "  <thead>\n",
       "    <tr style=\"text-align: right;\">\n",
       "      <th></th>\n",
       "      <th>Label</th>\n",
       "      <th>bias</th>\n",
       "      <th>experience</th>\n",
       "      <th>salary</th>\n",
       "    </tr>\n",
       "  </thead>\n",
       "  <tbody>\n",
       "    <tr>\n",
       "      <th>0</th>\n",
       "      <td>1</td>\n",
       "      <td>1</td>\n",
       "      <td>0.7</td>\n",
       "      <td>48000</td>\n",
       "    </tr>\n",
       "    <tr>\n",
       "      <th>1</th>\n",
       "      <td>0</td>\n",
       "      <td>1</td>\n",
       "      <td>1.9</td>\n",
       "      <td>48000</td>\n",
       "    </tr>\n",
       "    <tr>\n",
       "      <th>2</th>\n",
       "      <td>1</td>\n",
       "      <td>1</td>\n",
       "      <td>2.5</td>\n",
       "      <td>60000</td>\n",
       "    </tr>\n",
       "    <tr>\n",
       "      <th>3</th>\n",
       "      <td>0</td>\n",
       "      <td>1</td>\n",
       "      <td>4.2</td>\n",
       "      <td>63000</td>\n",
       "    </tr>\n",
       "    <tr>\n",
       "      <th>4</th>\n",
       "      <td>0</td>\n",
       "      <td>1</td>\n",
       "      <td>6.0</td>\n",
       "      <td>76000</td>\n",
       "    </tr>\n",
       "  </tbody>\n",
       "</table>\n",
       "</div>"
      ],
      "text/plain": [
       "   Label  bias  experience  salary\n",
       "0      1     1         0.7   48000\n",
       "1      0     1         1.9   48000\n",
       "2      1     1         2.5   60000\n",
       "3      0     1         4.2   63000\n",
       "4      0     1         6.0   76000"
      ]
     },
     "execution_count": 264,
     "metadata": {},
     "output_type": "execute_result"
    }
   ],
   "source": [
    "data = pd.read_csv(\"assignment_2.csv\")\n",
    "data.head()"
   ]
  },
  {
   "cell_type": "code",
   "execution_count": 265,
   "metadata": {},
   "outputs": [
    {
     "data": {
      "text/plain": [
       "(200, 4)"
      ]
     },
     "execution_count": 265,
     "metadata": {},
     "output_type": "execute_result"
    }
   ],
   "source": [
    "data.shape"
   ]
  },
  {
   "cell_type": "code",
   "execution_count": 266,
   "metadata": {},
   "outputs": [],
   "source": [
    "# filter out the applicants that got admitted\n",
    "MALE = data[data['Label']==1]\n",
    "FEMALE = data[data['Label'] == 0]"
   ]
  },
  {
   "cell_type": "code",
   "execution_count": 267,
   "metadata": {},
   "outputs": [
    {
     "data": {
      "text/plain": [
       "<matplotlib.collections.PathCollection at 0x197c2834080>"
      ]
     },
     "execution_count": 267,
     "metadata": {},
     "output_type": "execute_result"
    },
    {
     "data": {
      "text/plain": [
       "<matplotlib.collections.PathCollection at 0x197bef69c88>"
      ]
     },
     "execution_count": 267,
     "metadata": {},
     "output_type": "execute_result"
    },
    {
     "name": "stderr",
     "output_type": "stream",
     "text": [
      "C:\\Users\\HoonCheol\\Anaconda3\\envs\\tensorflow\\lib\\site-packages\\matplotlib\\cbook\\deprecation.py:107: MatplotlibDeprecationWarning: Adding an axes using the same arguments as a previous axes currently reuses the earlier instance.  In a future version, a new instance will always be created and returned.  Meanwhile, this warning can be suppressed, and the future behavior ensured, by passing a unique label to each axes instance.\n",
      "  warnings.warn(message, mplDeprecation, stacklevel=1)\n"
     ]
    },
    {
     "data": {
      "text/plain": [
       "Text(0.5,0,'Experience')"
      ]
     },
     "execution_count": 267,
     "metadata": {},
     "output_type": "execute_result"
    },
    {
     "data": {
      "text/plain": [
       "Text(0,0.5,'Salary')"
      ]
     },
     "execution_count": 267,
     "metadata": {},
     "output_type": "execute_result"
    },
    {
     "data": {
      "text/plain": [
       "<matplotlib.legend.Legend at 0x197c2834940>"
      ]
     },
     "execution_count": 267,
     "metadata": {},
     "output_type": "execute_result"
    },
    {
     "data": {
      "image/png": "[encoded data removed]",
      "text/plain": [
       "<Figure size 432x288 with 1 Axes>"
      ]
     },
     "metadata": {},
     "output_type": "display_data"
    }
   ],
   "source": [
    "# plots\n",
    "fig = plt.figure()\n",
    "plt.scatter(MALE.iloc[:, 2], MALE.iloc[:, 3], s=10, label='Male')\n",
    "plt.scatter(FEMALE.iloc[:, 2], FEMALE.iloc[:, 3], s=10, label='Female')\n",
    "ax = fig.add_subplot(1,1,1)\n",
    "ax.set_xlabel('Experience')\n",
    "ax.set_ylabel('Salary')\n",
    "plt.legend()\n",
    "plt.show()"
   ]
  },
  {
   "cell_type": "code",
   "execution_count": 268,
   "metadata": {
    "scrolled": true
   },
   "outputs": [],
   "source": [
    "#데이터 간단 전처리\n",
    "del data[\"bias\"]\n",
    "#salary 변수는 스케일링 해준다.\n",
    "data[\"salary\"] = 0.0001 * data[\"salary\"]\n",
    "# data[\"salary\"] = (data[\"salary\"] - data[\"salary\"].mean()) / data[\"salary\"].std()\n",
    "# data[\"experience\"] = (data[\"experience\"] - data[\"experience\"].mean()) / data[\"experience\"].std()\n",
    "#input으로 넣기 쉽게끔 array화\n",
    "X = data[[\"experience\", \"salary\"]].values\n",
    "T = data[\"Label\"].values"
   ]
  },
  {
   "cell_type": "code",
   "execution_count": 269,
   "metadata": {},
   "outputs": [],
   "source": [
    "l = Logistic()"
   ]
  },
  {
   "cell_type": "code",
   "execution_count": 270,
   "metadata": {
    "scrolled": false
   },
   "outputs": [],
   "source": [
    "#l.forward(X)"
   ]
  },
  {
   "cell_type": "code",
   "execution_count": 271,
   "metadata": {},
   "outputs": [
    {
     "data": {
      "text/plain": [
       "217.98915302864629"
      ]
     },
     "execution_count": 271,
     "metadata": {},
     "output_type": "execute_result"
    }
   ],
   "source": [
    "l.loss(X, T)"
   ]
  },
  {
   "cell_type": "code",
   "execution_count": 272,
   "metadata": {},
   "outputs": [],
   "source": [
    "history = {'acc': [],\n",
    "           'loss': []}"
   ]
  },
  {
   "cell_type": "code",
   "execution_count": 273,
   "metadata": {
    "scrolled": true
   },
   "outputs": [
    {
     "name": "stdout",
     "output_type": "stream",
     "text": [
      "0 번째 Accuracy :  0.26\n",
      "0 번째 Loss :  217.98915302864629\n",
      "1000 번째 Accuracy :  0.67\n",
      "1000 번째 Loss :  125.79233114246247\n",
      "2000 번째 Accuracy :  0.755\n",
      "2000 번째 Loss :  118.89038721561056\n",
      "3000 번째 Accuracy :  0.755\n",
      "3000 번째 Loss :  115.00459496626843\n",
      "4000 번째 Accuracy :  0.755\n",
      "4000 번째 Loss :  111.64477840005213\n",
      "5000 번째 Accuracy :  0.745\n",
      "5000 번째 Loss :  108.64324575483195\n",
      "6000 번째 Accuracy :  0.745\n",
      "6000 번째 Loss :  105.95381183835339\n",
      "7000 번째 Accuracy :  0.745\n",
      "7000 번째 Loss :  103.5406037184205\n",
      "8000 번째 Accuracy :  0.745\n",
      "8000 번째 Loss :  101.37174989810413\n",
      "9000 번째 Accuracy :  0.745\n",
      "9000 번째 Loss :  99.41892386927333\n",
      "10000 번째 Accuracy :  0.745\n",
      "10000 번째 Loss :  97.65709825216746\n",
      "11000 번째 Accuracy :  0.745\n",
      "11000 번째 Loss :  96.06425625331958\n",
      "12000 번째 Accuracy :  0.745\n",
      "12000 번째 Loss :  94.62108420142658\n",
      "13000 번째 Accuracy :  0.745\n",
      "13000 번째 Loss :  93.31066753890023\n",
      "14000 번째 Accuracy :  0.745\n",
      "14000 번째 Loss :  92.11820343313224\n",
      "15000 번째 Accuracy :  0.745\n",
      "15000 번째 Loss :  91.03073696603693\n",
      "16000 번째 Accuracy :  0.755\n",
      "16000 번째 Loss :  90.03692382743549\n",
      "17000 번째 Accuracy :  0.755\n",
      "17000 번째 Loss :  89.126819886306\n",
      "18000 번째 Accuracy :  0.77\n",
      "18000 번째 Loss :  88.2916964887041\n",
      "19000 번째 Accuracy :  0.79\n",
      "19000 번째 Loss :  87.52387950240345\n",
      "20000 번째 Accuracy :  0.795\n",
      "20000 번째 Loss :  86.81660975553257\n",
      "21000 번째 Accuracy :  0.8\n",
      "21000 번째 Loss :  86.16392242932281\n",
      "22000 번째 Accuracy :  0.815\n",
      "22000 번째 Loss :  85.5605430467713\n",
      "23000 번째 Accuracy :  0.815\n",
      "23000 번째 Loss :  85.0017978722316\n",
      "24000 번째 Accuracy :  0.82\n",
      "24000 번째 Loss :  84.4835367521486\n",
      "25000 번째 Accuracy :  0.82\n",
      "25000 번째 Loss :  84.0020666538941\n",
      "26000 번째 Accuracy :  0.825\n",
      "26000 번째 Loss :  83.55409438015978\n",
      "27000 번째 Accuracy :  0.825\n",
      "27000 번째 Loss :  83.13667714104585\n",
      "28000 번째 Accuracy :  0.825\n",
      "28000 번째 Loss :  82.74717985044941\n",
      "29000 번째 Accuracy :  0.825\n",
      "29000 번째 Loss :  82.38323817632423\n",
      "30000 번째 Accuracy :  0.825\n",
      "30000 번째 Loss :  82.04272651639087\n",
      "31000 번째 Accuracy :  0.825\n",
      "31000 번째 Loss :  81.72373019342758\n",
      "32000 번째 Accuracy :  0.835\n",
      "32000 번째 Loss :  81.42452126930431\n",
      "33000 번째 Accuracy :  0.835\n",
      "33000 번째 Loss :  81.14353746651358\n",
      "34000 번째 Accuracy :  0.835\n",
      "34000 번째 Loss :  80.87936376211866\n",
      "35000 번째 Accuracy :  0.835\n",
      "35000 번째 Loss :  80.63071628365432\n",
      "36000 번째 Accuracy :  0.835\n",
      "36000 번째 Loss :  80.39642819126227\n",
      "37000 번째 Accuracy :  0.835\n",
      "37000 번째 Loss :  80.17543727670046\n",
      "38000 번째 Accuracy :  0.835\n",
      "38000 번째 Loss :  79.96677504911686\n",
      "39000 번째 Accuracy :  0.835\n",
      "39000 번째 Loss :  79.76955711072506\n",
      "40000 번째 Accuracy :  0.835\n",
      "40000 번째 Loss :  79.58297465369733\n",
      "41000 번째 Accuracy :  0.835\n",
      "41000 번째 Loss :  79.40628693349794\n",
      "42000 번째 Accuracy :  0.835\n",
      "42000 번째 Loss :  79.23881459418541\n",
      "43000 번째 Accuracy :  0.835\n",
      "43000 번째 Loss :  79.07993373848012\n",
      "44000 번째 Accuracy :  0.835\n",
      "44000 번째 Loss :  78.929070650102\n",
      "45000 번째 Accuracy :  0.835\n",
      "45000 번째 Loss :  78.78569708842811\n",
      "46000 번째 Accuracy :  0.835\n",
      "46000 번째 Loss :  78.64932608623778\n",
      "47000 번째 Accuracy :  0.83\n",
      "47000 번째 Loss :  78.51950819048446\n",
      "48000 번째 Accuracy :  0.83\n",
      "48000 번째 Loss :  78.39582809389684\n",
      "49000 번째 Accuracy :  0.83\n",
      "49000 번째 Loss :  78.27790161196202\n"
     ]
    }
   ],
   "source": [
    "for i in range(50000):\n",
    "    if i % 10 == 0:\n",
    "        history['acc'].append(l.accuracy(X, T))\n",
    "        history['loss'].append(l.loss(X, T))\n",
    "        \n",
    "    if i % 1000 == 0:\n",
    "        print(i, \"번째 Accuracy : \", l.accuracy(X, T))\n",
    "        print(i, \"번째 Loss : \", l.loss(X, T))\n",
    "    \n",
    "    l.gradient(X, T)"
   ]
  },
  {
   "cell_type": "code",
   "execution_count": 274,
   "metadata": {},
   "outputs": [
    {
     "data": {
      "text/plain": [
       "{'W': array([[ 0.5873595],\n",
       "        [-0.7861226]]), 'b': array([0.95225258])}"
      ]
     },
     "execution_count": 274,
     "metadata": {},
     "output_type": "execute_result"
    }
   ],
   "source": [
    "#최종 가중치 값 확인\n",
    "l.params"
   ]
  },
  {
   "cell_type": "code",
   "execution_count": 275,
   "metadata": {},
   "outputs": [
    {
     "data": {
      "text/plain": [
       "[<matplotlib.lines.Line2D at 0x197c1660518>]"
      ]
     },
     "execution_count": 275,
     "metadata": {},
     "output_type": "execute_result"
    },
    {
     "data": {
      "text/plain": [
       "Text(0.5,0,'epochs')"
      ]
     },
     "execution_count": 275,
     "metadata": {},
     "output_type": "execute_result"
    },
    {
     "data": {
      "text/plain": [
       "Text(0,0.5,'Accuracy(%)')"
      ]
     },
     "execution_count": 275,
     "metadata": {},
     "output_type": "execute_result"
    },
    {
     "data": {
      "text/plain": [
       "[<matplotlib.lines.Line2D at 0x197c165fd68>]"
      ]
     },
     "execution_count": 275,
     "metadata": {},
     "output_type": "execute_result"
    },
    {
     "data": {
      "text/plain": [
       "Text(0,0.5,'Error')"
      ]
     },
     "execution_count": 275,
     "metadata": {},
     "output_type": "execute_result"
    },
    {
     "data": {
      "image/png": "[encoded data removed]",
      "text/plain": [
       "<Figure size 432x288 with 2 Axes>"
      ]
     },
     "metadata": {},
     "output_type": "display_data"
    },
    {
     "data": {
      "text/plain": [
       "<Figure size 432x288 with 0 Axes>"
      ]
     },
     "metadata": {},
     "output_type": "display_data"
    }
   ],
   "source": [
    "fig = plt.figure()\n",
    "ax_acc = fig.add_subplot(111)\n",
    "\n",
    "ax_acc.plot(range(5000), history['acc'], label='정확도(%)', color='darkred')\n",
    "#plt.text(3, 14.7, \"<----------------정확도(%)\", verticalalignment='top', horizontalalignment='right')\n",
    "plt.xlabel('epochs')\n",
    "plt.ylabel('Accuracy(%)')\n",
    "ax_acc.grid(linestyle='--', color='lavender')\n",
    "ax_loss = ax_acc.twinx()\n",
    "ax_loss.plot(range(5000), history['loss'], label='오차', color='darkblue')\n",
    "#plt.text(3, 2.2, \"<----------------오차\", verticalalignment='top', horizontalalignment='left')\n",
    "plt.ylabel('Error')\n",
    "ax_loss.yaxis.tick_right()\n",
    "ax_loss.grid(linestyle='--', color='lavender')\n",
    "\n",
    "# 그래프 표시\n",
    "plt.show()\n",
    "#plt.legend()\n",
    "plt.savefig('acc.png')"
   ]
  },
  {
   "cell_type": "code",
   "execution_count": 276,
   "metadata": {},
   "outputs": [],
   "source": [
    "# filter out the applicants that got admitted\n",
    "MALE = data[data['Label']==1]\n",
    "FEMALE = data[data['Label'] == 0]"
   ]
  },
  {
   "cell_type": "code",
   "execution_count": 277,
   "metadata": {},
   "outputs": [
    {
     "data": {
      "text/plain": [
       "<matplotlib.collections.PathCollection at 0x197bf0475f8>"
      ]
     },
     "execution_count": 277,
     "metadata": {},
     "output_type": "execute_result"
    },
    {
     "data": {
      "text/plain": [
       "<matplotlib.collections.PathCollection at 0x197bf047ba8>"
      ]
     },
     "execution_count": 277,
     "metadata": {},
     "output_type": "execute_result"
    },
    {
     "name": "stderr",
     "output_type": "stream",
     "text": [
      "C:\\Users\\HoonCheol\\Anaconda3\\envs\\tensorflow\\lib\\site-packages\\matplotlib\\cbook\\deprecation.py:107: MatplotlibDeprecationWarning: Adding an axes using the same arguments as a previous axes currently reuses the earlier instance.  In a future version, a new instance will always be created and returned.  Meanwhile, this warning can be suppressed, and the future behavior ensured, by passing a unique label to each axes instance.\n",
      "  warnings.warn(message, mplDeprecation, stacklevel=1)\n"
     ]
    },
    {
     "data": {
      "text/plain": [
       "Text(0.5,0,'Experience')"
      ]
     },
     "execution_count": 277,
     "metadata": {},
     "output_type": "execute_result"
    },
    {
     "data": {
      "text/plain": [
       "Text(0,0.5,'Salary')"
      ]
     },
     "execution_count": 277,
     "metadata": {},
     "output_type": "execute_result"
    },
    {
     "data": {
      "text/plain": [
       "[<matplotlib.lines.Line2D at 0x197bf047a90>]"
      ]
     },
     "execution_count": 277,
     "metadata": {},
     "output_type": "execute_result"
    },
    {
     "data": {
      "text/plain": [
       "<matplotlib.legend.Legend at 0x197bf0479b0>"
      ]
     },
     "execution_count": 277,
     "metadata": {},
     "output_type": "execute_result"
    },
    {
     "data": {
      "image/png": "[encoded data removed]",
      "text/plain": [
       "<Figure size 432x288 with 1 Axes>"
      ]
     },
     "metadata": {},
     "output_type": "display_data"
    }
   ],
   "source": [
    "# plots\n",
    "fig = plt.figure()\n",
    "plt.scatter(MALE.iloc[:, 1], MALE.iloc[:, 2], s=10, label='Male')\n",
    "plt.scatter(FEMALE.iloc[:, 1], FEMALE.iloc[:, 2], s=10, label='Female')\n",
    "\n",
    "x_axis = np.linspace(0, 10,50)\n",
    "y_axis = -(l.params['b'][0] + x_axis*l.params['W'][0]) / l.params['W'][1]\n",
    "\n",
    "ax = fig.add_subplot(1,1,1)\n",
    "ax.set_xlabel('Experience')\n",
    "ax.set_ylabel('Salary')\n",
    "plt.plot(x_axis, y_axis)\n",
    "plt.legend()\n",
    "plt.show()"
   ]
  },
  {
   "cell_type": "code",
   "execution_count": null,
   "metadata": {},
   "outputs": [],
   "source": []
  }
 ],
 "metadata": {
  "kernelspec": {
   "display_name": "Python 3",
   "language": "python",
   "name": "python3"
  },
  "language_info": {
   "codemirror_mode": {
    "name": "ipython",
    "version": 3
   },
   "file_extension": ".py",
   "mimetype": "text/x-python",
   "name": "python",
   "nbconvert_exporter": "python",
   "pygments_lexer": "ipython3",
   "version": "3.6.4"
  }
 },
 "nbformat": 4,
 "nbformat_minor": 2
}
