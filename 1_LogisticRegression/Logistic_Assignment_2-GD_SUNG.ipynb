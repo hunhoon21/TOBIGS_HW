{
 "cells": [
  {
   "cell_type": "markdown",
   "metadata": {},
   "source": [
    "# Dataload and import library"
   ]
  },
  {
   "cell_type": "code",
   "execution_count": 1,
   "metadata": {},
   "outputs": [],
   "source": [
    "import numpy as np\n",
    "import matplotlib.pyplot as plt\n",
    "import pandas as pd\n",
    "import random\n"
   ]
  },
  {
   "cell_type": "code",
   "execution_count": 2,
   "metadata": {},
   "outputs": [
    {
     "data": {
      "text/html": [
       "<div>\n",
       "<style scoped>\n",
       "    .dataframe tbody tr th:only-of-type {\n",
       "        vertical-align: middle;\n",
       "    }\n",
       "\n",
       "    .dataframe tbody tr th {\n",
       "        vertical-align: top;\n",
       "    }\n",
       "\n",
       "    .dataframe thead th {\n",
       "        text-align: right;\n",
       "    }\n",
       "</style>\n",
       "<table border=\"1\" class=\"dataframe\">\n",
       "  <thead>\n",
       "    <tr style=\"text-align: right;\">\n",
       "      <th></th>\n",
       "      <th>Label</th>\n",
       "      <th>bias</th>\n",
       "      <th>experience</th>\n",
       "      <th>salary</th>\n",
       "    </tr>\n",
       "  </thead>\n",
       "  <tbody>\n",
       "    <tr>\n",
       "      <th>0</th>\n",
       "      <td>1</td>\n",
       "      <td>1</td>\n",
       "      <td>0.7</td>\n",
       "      <td>4.8</td>\n",
       "    </tr>\n",
       "    <tr>\n",
       "      <th>1</th>\n",
       "      <td>0</td>\n",
       "      <td>1</td>\n",
       "      <td>1.9</td>\n",
       "      <td>4.8</td>\n",
       "    </tr>\n",
       "    <tr>\n",
       "      <th>2</th>\n",
       "      <td>1</td>\n",
       "      <td>1</td>\n",
       "      <td>2.5</td>\n",
       "      <td>6.0</td>\n",
       "    </tr>\n",
       "    <tr>\n",
       "      <th>3</th>\n",
       "      <td>0</td>\n",
       "      <td>1</td>\n",
       "      <td>4.2</td>\n",
       "      <td>6.3</td>\n",
       "    </tr>\n",
       "    <tr>\n",
       "      <th>4</th>\n",
       "      <td>0</td>\n",
       "      <td>1</td>\n",
       "      <td>6.0</td>\n",
       "      <td>7.6</td>\n",
       "    </tr>\n",
       "  </tbody>\n",
       "</table>\n",
       "</div>"
      ],
      "text/plain": [
       "   Label  bias  experience  salary\n",
       "0      1     1         0.7     4.8\n",
       "1      0     1         1.9     4.8\n",
       "2      1     1         2.5     6.0\n",
       "3      0     1         4.2     6.3\n",
       "4      0     1         6.0     7.6"
      ]
     },
     "execution_count": 2,
     "metadata": {},
     "output_type": "execute_result"
    }
   ],
   "source": [
    "data = pd.read_csv('../로지스틱/assignment_2.csv')\n",
    "data['salary']=data['salary'].apply(lambda x : x/10000)\n",
    "data.head()"
   ]
  },
  {
   "cell_type": "code",
   "execution_count": 3,
   "metadata": {},
   "outputs": [],
   "source": [
    "#data['salary']=data['salary'].apply(lambda x : x/10000)"
   ]
  },
  {
   "cell_type": "markdown",
   "metadata": {},
   "source": [
    "# Logistic regression 해야하는 data 의 scatter plot"
   ]
  },
  {
   "cell_type": "code",
   "execution_count": 4,
   "metadata": {},
   "outputs": [],
   "source": [
    "# filter out the applicants that got admitted\n",
    "MALE = data[data['Label']==1]\n",
    "FEMALE = data[data['Label'] == 0]\n"
   ]
  },
  {
   "cell_type": "code",
   "execution_count": 5,
   "metadata": {},
   "outputs": [
    {
     "name": "stderr",
     "output_type": "stream",
     "text": [
      "/Users/sungjinpark/anaconda3/lib/python3.6/site-packages/matplotlib/cbook/deprecation.py:106: MatplotlibDeprecationWarning: Adding an axes using the same arguments as a previous axes currently reuses the earlier instance.  In a future version, a new instance will always be created and returned.  Meanwhile, this warning can be suppressed, and the future behavior ensured, by passing a unique label to each axes instance.\n",
      "  warnings.warn(message, mplDeprecation, stacklevel=1)\n"
     ]
    },
    {
     "data": {
      "image/png": "[encoded data removed]",
      "text/plain": [
       "<matplotlib.figure.Figure at 0x1102022e8>"
      ]
     },
     "metadata": {},
     "output_type": "display_data"
    }
   ],
   "source": [
    "# plots\n",
    "fig = plt.figure()\n",
    "plt.scatter(MALE.iloc[:, 2], MALE.iloc[:, 3], s=10, label='Male')\n",
    "plt.scatter(FEMALE.iloc[:, 2], FEMALE.iloc[:, 3], s=10, label='Female')\n",
    "ax = fig.add_subplot(1,1,1)\n",
    "ax.set_xlabel('Experience')\n",
    "ax.set_ylabel('Salary')\n",
    "plt.legend()\n",
    "plt.show()"
   ]
  },
  {
   "cell_type": "code",
   "execution_count": 6,
   "metadata": {},
   "outputs": [
    {
     "data": {
      "text/plain": [
       "array([-1.70214706,  1.74175009, -1.41088039])"
      ]
     },
     "execution_count": 6,
     "metadata": {},
     "output_type": "execute_result"
    }
   ],
   "source": [
    "## 독립변수들\n",
    "X = data.iloc[:, 1:]\n",
    "X = X.values.tolist()\n",
    "X = np.array(X)\n",
    "#X\n",
    "\n",
    "# 종속변수 Target = T \n",
    "T = data.iloc[:,0]\n",
    "T = T.values.tolist()\n",
    "T = np.array(T)\n",
    "#T\n",
    "\n",
    "# 회귀계수\n",
    "beta = np.random.randn(3)\n",
    "#beta= np.array([1,1,1])\n",
    "beta"
   ]
  },
  {
   "cell_type": "markdown",
   "metadata": {},
   "source": [
    "## 회귀식\n",
    "## $$ a_n=B^TX = \\hat{B}_0 +\\hat{B}_1x_1 +\\hat{B}_2x_2 ,    \\quad\\mbox{n=데이터 수}$$\n",
    "\n",
    "\n"
   ]
  },
  {
   "cell_type": "code",
   "execution_count": 7,
   "metadata": {},
   "outputs": [],
   "source": [
    "# 내적 -> 회귀계수와 X의 선형결합 \n",
    "a = X.dot(beta)\n",
    "#a\n"
   ]
  },
  {
   "cell_type": "markdown",
   "metadata": {},
   "source": [
    "## $$ \\mbox 로그오즈 = 회귀식을\\  p에\\  대해서\\  정리 $$\n",
    "## $$ log(Odds) = \\hat{B}_0 +\\hat{B}_1x_1 + \\hat{B}_2x_2 $$\n",
    "## $$ \\mbox P는 \\ 로지스틱 \\ 함수 $$\n",
    "## $$ P = \\frac{\\mathrm{1} }{\\mathrm{1} + e^{-a_n}} = \\sigma(x,B) $$ "
   ]
  },
  {
   "cell_type": "code",
   "execution_count": 8,
   "metadata": {},
   "outputs": [
    {
     "data": {
      "text/plain": [
       "array([7.06029062e-04, 5.68033936e-03, 2.97938607e-03, 3.64268191e-02,\n",
       "       1.21923760e-01, 4.71070804e-01, 6.54366278e-01, 4.97570327e-01,\n",
       "       8.50785032e-01, 9.82102710e-01, 1.69981826e-03, 8.82138244e-04,\n",
       "       9.89742125e-01, 1.41831287e-01, 1.80012236e-03, 7.62725258e-01,\n",
       "       1.01415075e-01, 8.47011621e-02, 3.85213646e-04, 3.30805284e-01,\n",
       "       2.63884366e-02, 6.35643956e-01, 7.78075325e-02, 1.57122436e-02,\n",
       "       8.57930323e-01, 4.58957607e-01, 4.39497611e-01, 5.81952010e-03,\n",
       "       9.67999534e-01, 1.72916138e-02, 5.67236183e-01, 5.01888076e-04,\n",
       "       7.86487597e-04, 8.40248001e-04, 8.06200513e-01, 9.05553016e-04,\n",
       "       6.28107537e-03, 1.75924550e-01, 1.59848843e-02, 6.47041517e-02,\n",
       "       5.80061193e-01, 7.38895914e-03, 7.06029062e-04, 3.91996613e-03,\n",
       "       2.81881950e-03, 1.95155593e-01, 4.59518282e-02, 6.29549949e-01,\n",
       "       1.70813326e-04, 7.47608610e-01, 7.38895914e-03, 8.04045828e-01,\n",
       "       1.69239478e-01, 1.05266590e-02, 1.42898431e-01, 2.95353580e-03,\n",
       "       1.16339307e-02, 5.35499984e-03, 8.55712148e-03, 2.17550359e-03,\n",
       "       6.85545544e-01, 9.77350281e-01, 7.56968609e-03, 4.11427139e-01,\n",
       "       5.68615497e-01, 6.01411388e-03, 9.01368701e-03, 7.18684177e-01,\n",
       "       7.31867453e-01, 7.41314439e-01, 1.20792014e-01, 6.80680865e-01,\n",
       "       9.77923508e-01, 9.56492320e-05, 2.71560185e-01, 6.21801003e-01,\n",
       "       5.24550816e-01, 2.57700770e-02, 2.29959080e-02, 5.23314610e-04,\n",
       "       7.21251570e-03, 6.33573643e-02, 1.38850608e-02, 1.07426766e-01,\n",
       "       6.42841919e-01, 8.90282438e-03, 3.29362605e-04, 1.32583675e-02,\n",
       "       5.40289039e-02, 3.55818271e-02, 7.18305209e-01, 1.56064032e-02,\n",
       "       2.08321761e-01, 2.40198165e-03, 5.53414739e-03, 5.68033936e-03,\n",
       "       9.96154562e-01, 4.51375810e-04, 4.68427066e-01, 2.97691106e-04,\n",
       "       8.76926357e-01, 1.62248267e-01, 5.18475457e-01, 9.37154409e-01,\n",
       "       9.99707989e-01, 1.62725286e-03, 2.62125946e-02, 4.72648118e-03,\n",
       "       8.48328847e-03, 1.39107389e-02, 3.56708837e-01, 2.47809570e-01,\n",
       "       1.88977626e-03, 6.31149901e-01, 1.64151420e-03, 6.00291264e-01,\n",
       "       2.23644902e-01, 1.61993752e-01, 8.03454739e-01, 8.48792904e-01,\n",
       "       1.46043042e-04, 8.83891996e-01, 2.15304219e-01, 8.44497223e-01,\n",
       "       9.56653616e-01, 9.26081032e-01, 5.93983654e-01, 8.49906301e-03,\n",
       "       3.78579938e-03, 9.71372680e-01, 4.54220538e-03, 7.87620377e-01,\n",
       "       9.23378360e-03, 2.28230472e-01, 1.32955412e-01, 8.76386483e-01,\n",
       "       4.47357659e-02, 1.53656634e-03, 1.10150469e-01, 1.35556132e-02,\n",
       "       1.42315480e-03, 7.45333941e-03, 2.21151720e-02, 2.02257811e-03,\n",
       "       4.29128000e-04, 1.33238455e-02, 8.65225409e-01, 4.14454355e-01,\n",
       "       5.90214391e-01, 1.11873205e-04, 9.38176097e-01, 9.23915705e-01,\n",
       "       7.01466248e-01, 4.70310761e-02, 4.34206763e-02, 1.65137426e-02,\n",
       "       4.91682169e-05, 2.28475701e-04, 4.21425406e-02, 2.08012917e-01,\n",
       "       1.58966108e-01, 5.97741875e-01, 2.56997068e-01, 5.94435441e-01,\n",
       "       5.09742480e-01, 9.17303281e-01, 8.40260198e-02, 3.93457754e-05,\n",
       "       3.00303592e-04, 1.93786433e-01, 3.14436445e-01, 8.69037283e-01,\n",
       "       1.89722783e-01, 2.00104955e-01, 2.41693749e-01, 9.87918966e-01,\n",
       "       5.24556269e-02, 2.90793183e-03, 6.77126558e-04, 1.13152808e-02,\n",
       "       2.49091699e-01, 7.08842009e-03, 5.99276906e-02, 8.81565674e-01,\n",
       "       3.30986475e-02, 5.50442762e-04, 4.53374131e-03, 6.07848971e-04,\n",
       "       6.52811635e-01, 6.85930574e-03, 4.58189628e-03, 5.75797300e-01,\n",
       "       2.55515539e-02, 2.19671628e-02, 5.79604717e-01, 9.68988635e-02,\n",
       "       5.04125334e-01, 4.84499760e-02, 9.88022837e-01, 9.85529240e-01])"
      ]
     },
     "execution_count": 8,
     "metadata": {},
     "output_type": "execute_result"
    }
   ],
   "source": [
    "# 로지스틱 함수 odds -> log 후 p에 대해 정리\n",
    "\n",
    "def logistic(a):\n",
    "    return 1/(1 + np.exp(-a))\n",
    "\n",
    "P = logistic(a)\n",
    "P"
   ]
  },
  {
   "cell_type": "markdown",
   "metadata": {},
   "source": [
    "## $$ \\mbox 각\\  데이터가\\  따르는\\  확률분포를\\   label\\  y와\\  엮어서\\  표현  $$\n",
    "\n",
    "## $$ P(x_i,y_i | B) = \\begin{cases} \\sigma(x,B)^{y}, & \\mbox{if }y\\mbox{ = 1} \\\\ (1-\\sigma(x,B))^{1-y}, & \\mbox{if }y\\mbox{ = 0} \\end{cases} $$"
   ]
  },
  {
   "cell_type": "code",
   "execution_count": null,
   "metadata": {},
   "outputs": [],
   "source": []
  },
  {
   "cell_type": "markdown",
   "metadata": {},
   "source": [
    "## $$ \\mbox 위의 \\ 확률분포를 \\ 따르는 \\   데이터에서 \\ 얻은 \\ Likelihood  $$\n",
    "\n",
    "## $$ L = \\sigma(x,B)^{y}(1-\\sigma(x,B))^{1-y} $$ "
   ]
  },
  {
   "cell_type": "code",
   "execution_count": null,
   "metadata": {},
   "outputs": [],
   "source": []
  },
  {
   "cell_type": "markdown",
   "metadata": {},
   "source": [
    "## $$ \\mbox log 변환  $$\n",
    "\n",
    "## $$ L^*=log(L) = y\\sigma(x,B) + (1-y)(1-\\sigma(x,B)) $$ "
   ]
  },
  {
   "cell_type": "code",
   "execution_count": null,
   "metadata": {},
   "outputs": [],
   "source": []
  },
  {
   "cell_type": "markdown",
   "metadata": {},
   "source": [
    "## $$ \\mbox Convex\\  function으로\\  만들기\\  위한 \\ (-) 곱   $$\n",
    "\n",
    "## $$ \\mbox J는\\ Loss\\ Function  $$\n",
    "\n",
    "## $$ J= - L^* $$\n",
    "\n",
    "## $$ \\mbox Loss\\ function \\ = \\ Negative\\ log \\ likelihood\\  $$"
   ]
  },
  {
   "cell_type": "markdown",
   "metadata": {},
   "source": [
    "## $$ \\mbox N개의 \\ 데이터에\\ 대한\\ Negative\\ Likelihood  $$\n",
    "## $$ J(x_i,y_i|B) = -\\sum_{i=1}^N y_i\\sigma(x_i,B)- \\sum_{i=1}^N(1-y_i)(1-\\sigma(x_i,B)) $$ \n"
   ]
  },
  {
   "cell_type": "code",
   "execution_count": 9,
   "metadata": {},
   "outputs": [],
   "source": [
    "def Negative_log_likelihood(T, P):\n",
    "    E = 0\n",
    "    for i in range(200):  # 200개의 데이터에 대한 Loss\n",
    "        # y의 레이블이 1이면\n",
    " \n",
    "        E += -1*T[i]*np.log1p(P[i]) + -1*(1-T[i])*np.log1p(1 - P[i])\n",
    "            \n",
    "    return E"
   ]
  },
  {
   "cell_type": "code",
   "execution_count": 10,
   "metadata": {},
   "outputs": [
    {
     "data": {
      "text/plain": [
       "array([  -5.82023474, -133.87160116, -112.85170956])"
      ]
     },
     "execution_count": 10,
     "metadata": {},
     "output_type": "execute_result"
    }
   ],
   "source": [
    "X.T.dot(T - P)"
   ]
  },
  {
   "cell_type": "markdown",
   "metadata": {},
   "source": [
    "## Loss function 에 대한 Gradient를 구하기 위한 작업 "
   ]
  },
  {
   "cell_type": "markdown",
   "metadata": {},
   "source": [
    "## $$ \\mbox J를 \\ B에 \\ 대해서\\ 편미분  $$\n",
    "\n",
    "## $$ \\mbox J는 \\ P에 \\ 대한\\ 함수이고, \\ P는 \\ a에 \\ 대한 \\ 함수이고,\\ a는\\ B에 \\ 대한\\ 함수  $$\n",
    "\n",
    "## $${\\partial J\\over\\partial B} =  -\\sum_{i=1}^N {\\partial J\\over\\partial P_i} {\\partial P_i\\over\\partial a_i} {\\partial a_i\\over\\partial B} $$ "
   ]
  },
  {
   "cell_type": "markdown",
   "metadata": {},
   "source": [
    "## $${\\partial J\\over\\partial P_i} = \\frac{y_i}{P_i}- \\frac{1-y_i}{1-P_i} ,\\quad {\\partial P_i\\over\\partial a_i} = P_i(1-P_i), \\quad {\\partial a_i\\over\\partial B}=X^T $$ "
   ]
  },
  {
   "cell_type": "markdown",
   "metadata": {},
   "source": [
    "## $$ \\mbox 또한 \\ B는 \\ B_0,\\ B_1,\\ B_2이\\  있어서\\ 각각\\ 편미분    $$\n",
    "## $$ \\mbox 간단하게 \\  표현하면   $$"
   ]
  },
  {
   "cell_type": "markdown",
   "metadata": {},
   "source": [
    "## $${\\partial J\\over\\partial B} =  -\\sum_{i=1}^N {\\partial J\\over\\partial P_i} {\\partial P_i\\over\\partial a_i} {\\partial a_i\\over\\partial B} = - X^T(y-P) =  X^T(P-y)$$ "
   ]
  },
  {
   "cell_type": "code",
   "execution_count": 11,
   "metadata": {},
   "outputs": [
    {
     "name": "stdout",
     "output_type": "stream",
     "text": [
      "Loss: -108.40369527127902\n",
      "beta_hat: [-1.70214706  1.74175009 -1.41088039]\n",
      "Loss: -38.907303945435814\n",
      "beta_hat: [ 0.48227738 28.93234779 -3.22875387]\n",
      "Loss: -102.58578272287205\n",
      "beta_hat: [ -2.68822097   6.43600357 -50.43599819]\n",
      "Loss: -104.68307575891004\n",
      "beta_hat: [  2.52308501  30.79615765 -40.54582831]\n",
      "Loss: -88.95374310681771\n",
      "beta_hat: [  7.63381783  42.21823949 -33.03707355]\n",
      "Loss: -114.76169100770068\n",
      "beta_hat: [ 11.07548469  33.61588166 -38.52055767]\n",
      "Loss: -82.76174908253066\n",
      "beta_hat: [ 16.3706855   40.52905729 -29.67809521]\n",
      "Loss: -102.58578272287205\n",
      "beta_hat: [ 16.8987828   16.91074701 -56.19225842]\n",
      "Loss: -114.58626062556448\n",
      "beta_hat: [ 23.0397001   33.19008012 -40.89209396]\n",
      "Loss: -83.21358181708213\n",
      "beta_hat: [ 28.17811033  41.31106761 -32.01777362]\n",
      "Loss: -102.58578272287205\n",
      "beta_hat: [ 28.60889133  17.47617036 -58.48951154]\n",
      "Loss: -115.02933332407437\n",
      "beta_hat: [ 34.674169    33.56324245 -43.15085488]\n",
      "Loss: -83.96407812419402\n",
      "beta_hat: [ 39.73086199  41.50635294 -34.30293356]\n",
      "Loss: -102.58578272287205\n",
      "beta_hat: [ 40.1316845   17.78592819 -60.54311215]\n",
      "Loss: -115.56058324193232\n",
      "beta_hat: [ 46.16836263  33.92294932 -45.02525263]\n",
      "Final w: [ 51.12788729  41.64792969 -36.20157239]\n"
     ]
    },
    {
     "name": "stderr",
     "output_type": "stream",
     "text": [
      "/Users/sungjinpark/anaconda3/lib/python3.6/site-packages/ipykernel/__main__.py:4: RuntimeWarning: overflow encountered in exp\n"
     ]
    }
   ],
   "source": [
    "\n",
    "learning_rate = 0.05\n",
    "for i in range(150):\n",
    "    if i % 10 == 0:\n",
    "        print ('Loss:',Negative_log_likelihood(T, P))\n",
    "        print ('beta_hat:',beta)\n",
    "\n",
    "\n",
    "    # Beta 추정 \n",
    "    beta -= learning_rate * X.T.dot(P - T)\n",
    "\n",
    "    # 업데이트 된 beta로 다시 P 계산 \n",
    "    P = logistic(X.dot(beta))\n",
    "    P\n",
    "print (\"Final w:\", beta)"
   ]
  },
  {
   "cell_type": "code",
   "execution_count": 12,
   "metadata": {},
   "outputs": [
    {
     "data": {
      "text/plain": [
       "array([2.50898787e-41, 1.27191421e-19, 1.23130515e-27, 1.17045177e-01,\n",
       "       1.00000000e+00, 1.00000000e+00, 1.00000000e+00, 1.00000000e+00,\n",
       "       1.00000000e+00, 1.00000000e+00, 1.17305055e-31, 2.68620693e-40,\n",
       "       1.00000000e+00, 1.00000000e+00, 8.24700333e-32, 1.00000000e+00,\n",
       "       9.99999999e-01, 9.99999983e-01, 1.77020628e-48, 1.00000000e+00,\n",
       "       3.08519413e-06, 1.00000000e+00, 9.99996244e-01, 5.06718965e-10,\n",
       "       1.00000000e+00, 1.00000000e+00, 1.00000000e+00, 5.18686527e-20,\n",
       "       1.00000000e+00, 1.40137948e-11, 1.00000000e+00, 1.38128157e-46,\n",
       "       5.43476265e-40, 1.61527015e-39, 1.00000000e+00, 2.02952729e-38,\n",
       "       1.20743282e-16, 1.00000000e+00, 9.05602143e-09, 9.99901400e-01,\n",
       "       1.00000000e+00, 9.92467185e-18, 2.50898787e-41, 7.52518982e-23,\n",
       "       3.24484934e-25, 1.00000000e+00, 9.99787248e-01, 1.00000000e+00,\n",
       "       1.12530512e-57, 1.00000000e+00, 9.92467185e-18, 1.00000000e+00,\n",
       "       1.00000000e+00, 1.73897969e-13, 1.00000000e+00, 2.91259805e-28,\n",
       "       1.65081979e-10, 9.76495162e-22, 8.45682476e-18, 5.12158967e-31,\n",
       "       1.00000000e+00, 1.00000000e+00, 4.04728051e-18, 1.00000000e+00,\n",
       "       1.00000000e+00, 8.94205340e-20, 4.82745451e-14, 1.00000000e+00,\n",
       "       1.00000000e+00, 1.00000000e+00, 9.99999996e-01, 1.00000000e+00,\n",
       "       1.00000000e+00, 5.99861571e-63, 1.00000000e+00, 1.00000000e+00,\n",
       "       1.00000000e+00, 7.56542623e-06, 8.26170127e-08, 1.00669903e-45,\n",
       "       2.43371101e-17, 9.99999783e-01, 1.30892527e-12, 9.99999960e-01,\n",
       "       1.00000000e+00, 3.32672181e-19, 4.91414039e-49, 1.45823942e-09,\n",
       "       8.98102959e-01, 2.45319051e-01, 1.00000000e+00, 2.22070202e-08,\n",
       "       1.00000000e+00, 2.62422856e-30, 1.68345840e-21, 1.27191421e-19,\n",
       "       1.00000000e+00, 1.18143131e-45, 1.00000000e+00, 5.17657370e-52,\n",
       "       1.00000000e+00, 1.00000000e+00, 1.00000000e+00, 1.00000000e+00,\n",
       "       1.00000000e+00, 8.68742389e-35, 1.35191148e-04, 2.52242225e-24,\n",
       "       2.00042461e-18, 2.42506360e-10, 1.00000000e+00, 1.00000000e+00,\n",
       "       1.37148312e-32, 1.00000000e+00, 3.67262136e-34, 1.00000000e+00,\n",
       "       1.00000000e+00, 1.00000000e+00, 1.00000000e+00, 1.00000000e+00,\n",
       "       3.12387737e-58, 1.00000000e+00, 1.00000000e+00, 1.00000000e+00,\n",
       "       1.00000000e+00, 1.00000000e+00, 1.00000000e+00, 3.70621380e-16,\n",
       "       2.35600868e-25, 1.00000000e+00, 6.41222325e-23, 1.00000000e+00,\n",
       "       1.96863562e-14, 1.00000000e+00, 1.00000000e+00, 1.00000000e+00,\n",
       "       2.51337321e-01, 1.23569580e-34, 1.00000000e+00, 3.20972410e-12,\n",
       "       5.30827682e-38, 4.19566978e-17, 2.10019421e-06, 7.55202351e-30,\n",
       "       3.83447488e-47, 1.79596313e-13, 1.00000000e+00, 1.00000000e+00,\n",
       "       1.00000000e+00, 2.16086362e-62, 1.00000000e+00, 1.00000000e+00,\n",
       "       1.00000000e+00, 9.99478455e-01, 9.73030091e-01, 1.56124022e-08,\n",
       "       3.24929120e-72, 6.63413132e-54, 9.99742151e-01, 1.00000000e+00,\n",
       "       1.00000000e+00, 1.00000000e+00, 1.00000000e+00, 1.00000000e+00,\n",
       "       1.00000000e+00, 1.00000000e+00, 9.99999929e-01, 3.03492338e-73,\n",
       "       2.18840423e-51, 1.00000000e+00, 1.00000000e+00, 1.00000000e+00,\n",
       "       1.00000000e+00, 1.00000000e+00, 1.00000000e+00, 1.00000000e+00,\n",
       "       9.98945367e-01, 3.01938538e-27, 3.44255690e-42, 1.17933166e-14,\n",
       "       1.00000000e+00, 1.36175419e-18, 9.99971730e-01, 1.00000000e+00,\n",
       "       2.52188503e-02, 3.10171743e-44, 3.46099008e-25, 1.58927520e-43,\n",
       "       1.00000000e+00, 7.89889659e-19, 2.71077691e-22, 1.00000000e+00,\n",
       "       1.78957855e-06, 9.20329906e-05, 1.00000000e+00, 9.99999980e-01,\n",
       "       1.00000000e+00, 9.46899545e-01, 1.00000000e+00, 1.00000000e+00])"
      ]
     },
     "execution_count": 12,
     "metadata": {},
     "output_type": "execute_result"
    }
   ],
   "source": [
    "P"
   ]
  },
  {
   "cell_type": "code",
   "execution_count": 13,
   "metadata": {},
   "outputs": [
    {
     "name": "stderr",
     "output_type": "stream",
     "text": [
      "/Users/sungjinpark/anaconda3/lib/python3.6/site-packages/matplotlib/cbook/deprecation.py:106: MatplotlibDeprecationWarning: Adding an axes using the same arguments as a previous axes currently reuses the earlier instance.  In a future version, a new instance will always be created and returned.  Meanwhile, this warning can be suppressed, and the future behavior ensured, by passing a unique label to each axes instance.\n",
      "  warnings.warn(message, mplDeprecation, stacklevel=1)\n"
     ]
    },
    {
     "data": {
      "image/png": "[encoded data removed]",
      "text/plain": [
       "<matplotlib.figure.Figure at 0x1100dc6d8>"
      ]
     },
     "metadata": {},
     "output_type": "display_data"
    }
   ],
   "source": [
    "fig = plt.figure()\n",
    "plt.scatter(MALE.iloc[:, 2], MALE.iloc[:, 3], s=10, label='Male',alpha=0.5)\n",
    "plt.scatter(FEMALE.iloc[:, 2], FEMALE.iloc[:, 3], s=10, label='Female',alpha=0.5)\n",
    "#plt.scatter(X[:,1], X[:,2],c=T , s=10, alpha=0.8)\n",
    "x_axis = np.linspace(0, 10,50)\n",
    "y_axis = -(beta[0] + x_axis*beta[1]) / beta[2]\n",
    "\n",
    "ax = fig.add_subplot(1,1,1)\n",
    "ax.set_xlabel('Experience')\n",
    "ax.set_ylabel('Salary')\n",
    "plt.plot(x_axis, y_axis)\n",
    "plt.legend()\n",
    "plt.show()\n",
    "\n",
    "\n",
    "\n"
   ]
  },
  {
   "cell_type": "markdown",
   "metadata": {},
   "source": [
    "### 직접 구현을 한 rough한 GD이기 때문에 성능이 안좋을 수 있습니다\n",
    "### 초기값에 매우 민감하며, 기타 하이퍼 파라미터에 따라 성능이 달라집니다"
   ]
  },
  {
   "cell_type": "code",
   "execution_count": null,
   "metadata": {},
   "outputs": [],
   "source": []
  }
 ],
 "metadata": {
  "kernelspec": {
   "display_name": "Python 3",
   "language": "python",
   "name": "python3"
  },
  "language_info": {
   "codemirror_mode": {
    "name": "ipython",
    "version": 3
   },
   "file_extension": ".py",
   "mimetype": "text/x-python",
   "name": "python",
   "nbconvert_exporter": "python",
   "pygments_lexer": "ipython3",
   "version": "3.6.4"
  }
 },
 "nbformat": 4,
 "nbformat_minor": 2
}
