{
 "cells": [
  {
   "cell_type": "code",
   "execution_count": 13,
   "metadata": {},
   "outputs": [],
   "source": [
    "import numpy as np\n",
    "def q_1(sequence):\n",
    "    b = []\n",
    "    for i, n in enumerate(sequence):\n",
    "        if i==0:\n",
    "            b.append(n)\n",
    "        else:\n",
    "            if n >= b[i-1]:\n",
    "                b.append(n)\n",
    "            else:\n",
    "                b.append(b[i-1])\n",
    "    return b, np.sum(abs(np.array(a) - np.array(b)))"
   ]
  },
  {
   "cell_type": "code",
   "execution_count": 14,
   "metadata": {},
   "outputs": [
    {
     "data": {
      "text/plain": [
       "([1, 3, 3, 4, 5, 5, 9], 3)"
      ]
     },
     "execution_count": 14,
     "metadata": {},
     "output_type": "execute_result"
    }
   ],
   "source": [
    "a = [1, 3, 2, 4, 5, 3, 9]\n",
    "q_1(a)"
   ]
  },
  {
   "cell_type": "markdown",
   "metadata": {},
   "source": [
    "n-1 까지 120m 오를 확률 * 0.5  \n",
    "n-1 까지 135m 오를 확률  \n",
    "두개 더한게 답"
   ]
  },
  {
   "cell_type": "code",
   "execution_count": 15,
   "metadata": {},
   "outputs": [],
   "source": [
    "import math\n",
    "def nCr(n, r):\n",
    "    f = math.factorial\n",
    "    return f(n) / (f(r) * f(n - r))"
   ]
  },
  {
   "cell_type": "code",
   "execution_count": 42,
   "metadata": {},
   "outputs": [],
   "source": [
    "def q_2(n):\n",
    "    x1 = ( (n-1) * 30 - 120 ) / 15 #n-1번까지 120m 오를때 떨어진 횟수 , n=6 -> 2\n",
    "    #print(x1)\n",
    "    x2 = ( (n-1) * 30 - 135 ) / 15 #n-1번까지 135m 오를때 떨어진 횟수 , n=6 -> 1\n",
    "    #print(x2)\n",
    "    return nCr(n-1, x1) * (0.5 ** n) + nCr(n-1, x2) * (0.5 ** (n-1))"
   ]
  },
  {
   "cell_type": "code",
   "execution_count": 43,
   "metadata": {},
   "outputs": [
    {
     "data": {
      "text/plain": [
       "0.3125"
      ]
     },
     "execution_count": 43,
     "metadata": {},
     "output_type": "execute_result"
    }
   ],
   "source": [
    "q_2(6)"
   ]
  },
  {
   "cell_type": "code",
   "execution_count": 101,
   "metadata": {},
   "outputs": [],
   "source": [
    "import pandas as pd\n",
    "data = pd.read_csv(\"a_dic.txt\", delimiter=\"\\n\", header=None)\n",
    "data = data.values.reshape(-1)"
   ]
  },
  {
   "cell_type": "code",
   "execution_count": 102,
   "metadata": {},
   "outputs": [],
   "source": [
    "def check_repeat(txt):\n",
    "    check_list = []\n",
    "    for i, char in enumerate(txt):\n",
    "        if i < (len(txt) - 1):\n",
    "            if char != txt[i+1]:\n",
    "                check_list.append(char)\n",
    "                continue\n",
    "        if char in check_list:\n",
    "            return 0\n",
    "        if i==len(txt) - 1:\n",
    "            return 1"
   ]
  },
  {
   "cell_type": "code",
   "execution_count": 103,
   "metadata": {},
   "outputs": [
    {
     "data": {
      "text/plain": [
       "2812"
      ]
     },
     "execution_count": 103,
     "metadata": {},
     "output_type": "execute_result"
    }
   ],
   "source": [
    "sum(list(map(lambda x: check_repeat(x), data)))"
   ]
  },
  {
   "cell_type": "code",
   "execution_count": null,
   "metadata": {},
   "outputs": [],
   "source": []
  }
 ],
 "metadata": {
  "kernelspec": {
   "display_name": "Python 3",
   "language": "python",
   "name": "python3"
  },
  "language_info": {
   "codemirror_mode": {
    "name": "ipython",
    "version": 3
   },
   "file_extension": ".py",
   "mimetype": "text/x-python",
   "name": "python",
   "nbconvert_exporter": "python",
   "pygments_lexer": "ipython3",
   "version": "3.6.8"
  }
 },
 "nbformat": 4,
 "nbformat_minor": 2
}
