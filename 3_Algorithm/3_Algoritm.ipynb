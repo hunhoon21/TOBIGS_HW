{
 "cells": [
  {
   "cell_type": "markdown",
   "metadata": {},
   "source": [
    "### 1번 문제"
   ]
  },
  {
   "cell_type": "code",
   "execution_count": 13,
   "metadata": {},
   "outputs": [],
   "source": [
    "import numpy as np\n",
    "def q_1(sequence):\n",
    "    b = []\n",
    "    for i, n in enumerate(sequence):\n",
    "        if i==0:\n",
    "            b.append(n)\n",
    "        else:\n",
    "            if n >= b[i-1]:\n",
    "                b.append(n)\n",
    "            else:\n",
    "                b.append(b[i-1])\n",
    "    return b, np.sum(abs(np.array(a) - np.array(b)))"
   ]
  },
  {
   "cell_type": "code",
   "execution_count": 14,
   "metadata": {},
   "outputs": [
    {
     "data": {
      "text/plain": [
       "([1, 3, 3, 4, 5, 5, 9], 3)"
      ]
     },
     "execution_count": 14,
     "metadata": {},
     "output_type": "execute_result"
    }
   ],
   "source": [
    "a = [1, 3, 2, 4, 5, 3, 9]\n",
    "q_1(a)"
   ]
  },
  {
   "cell_type": "markdown",
   "metadata": {},
   "source": [
    "### 2번 문제"
   ]
  },
  {
   "cell_type": "markdown",
   "metadata": {},
   "source": [
    "n-1 까지 120m 오를 확률 * 0.5  \n",
    "n-1 까지 135m 오를 확률  \n",
    "두개 더한게 답"
   ]
  },
  {
   "cell_type": "code",
   "execution_count": 15,
   "metadata": {},
   "outputs": [],
   "source": [
    "import math\n",
    "def nCr(n, r):\n",
    "    f = math.factorial\n",
    "    return f(n) / (f(r) * f(n - r))"
   ]
  },
  {
   "cell_type": "code",
   "execution_count": 42,
   "metadata": {},
   "outputs": [],
   "source": [
    "def q_2(n):\n",
    "    x1 = ( (n-1) * 30 - 120 ) / 15 #n-1번까지 120m 오를때 떨어진 횟수 , n=6 -> 2\n",
    "    #print(x1)\n",
    "    x2 = ( (n-1) * 30 - 135 ) / 15 #n-1번까지 135m 오를때 떨어진 횟수 , n=6 -> 1\n",
    "    #print(x2)\n",
    "    return nCr(n-1, x1) * (0.5 ** n) + nCr(n-1, x2) * (0.5 ** (n-1))"
   ]
  },
  {
   "cell_type": "code",
   "execution_count": 43,
   "metadata": {},
   "outputs": [
    {
     "data": {
      "text/plain": [
       "0.3125"
      ]
     },
     "execution_count": 43,
     "metadata": {},
     "output_type": "execute_result"
    }
   ],
   "source": [
    "q_2(6)"
   ]
  },
  {
   "cell_type": "markdown",
   "metadata": {},
   "source": [
    "### 3번 문제"
   ]
  },
  {
   "cell_type": "code",
   "execution_count": 5,
   "metadata": {},
   "outputs": [],
   "source": [
    "import pandas as pd\n",
    "data = pd.read_csv(\"a_dic.txt\", delimiter=\"\\n\", header=None)\n",
    "data = data.values.reshape(-1)"
   ]
  },
  {
   "cell_type": "code",
   "execution_count": 50,
   "metadata": {},
   "outputs": [],
   "source": [
    "def check_repeat(txt):\n",
    "    txt = txt.lower()\n",
    "    check_list = []\n",
    "    for i, char in enumerate(txt):\n",
    "        if char in check_list:\n",
    "            return 0\n",
    "        if i < (len(txt)-1) :\n",
    "            if char != txt[i+1]:\n",
    "                check_list.append(char)\n",
    "                continue\n",
    "        if i==len(txt) - 1:\n",
    "            #print(check_list)\n",
    "            return 1"
   ]
  },
  {
   "cell_type": "code",
   "execution_count": 51,
   "metadata": {},
   "outputs": [
    {
     "data": {
      "text/plain": [
       "936"
      ]
     },
     "execution_count": 51,
     "metadata": {},
     "output_type": "execute_result"
    }
   ],
   "source": [
    "sum(list(map(lambda x: check_repeat(x), data)))"
   ]
  },
  {
   "cell_type": "code",
   "execution_count": 34,
   "metadata": {},
   "outputs": [
    {
     "data": {
      "text/plain": [
       "5"
      ]
     },
     "execution_count": 34,
     "metadata": {},
     "output_type": "execute_result"
    }
   ],
   "source": [
    "sum(list(map(lambda x: check_repeat(x), [\"alpha\",\"beta\",\"gamma\",\"delta\",\"epsilon\",\"zeta\",\"eta\",])))"
   ]
  },
  {
   "cell_type": "markdown",
   "metadata": {},
   "source": [
    "### 4번 문제"
   ]
  },
  {
   "cell_type": "code",
   "execution_count": 6,
   "metadata": {},
   "outputs": [],
   "source": [
    "def q4(k, a, b):\n",
    "    members = []\n",
    "    for i in range(a, b+1):\n",
    "        count = 1 #약수 개수 세주는 변수\n",
    "        for j in range(1, int((i+1)/2 ) + 1): #효율화를 위해 1/2*i 까지 검사\n",
    "            if i%j == 0:\n",
    "                count+=1 #최종 count는 약수 갯수\n",
    "        if i==1: #효율화에 의해 1을 따로 처리\n",
    "             count-=1\n",
    "        if count == k: #약수갯수가 k개면 리스트에 삽입\n",
    "            members.append(i)\n",
    "        \n",
    "    return members, len(members)"
   ]
  },
  {
   "cell_type": "code",
   "execution_count": 7,
   "metadata": {},
   "outputs": [
    {
     "data": {
      "text/plain": [
       "([6, 8, 10], 3)"
      ]
     },
     "execution_count": 7,
     "metadata": {},
     "output_type": "execute_result"
    }
   ],
   "source": [
    "q4(4, 5, 10)"
   ]
  },
  {
   "cell_type": "markdown",
   "metadata": {},
   "source": [
    "### 5번 문제"
   ]
  },
  {
   "cell_type": "code",
   "execution_count": 22,
   "metadata": {},
   "outputs": [],
   "source": [
    "def change_num(x, b):\n",
    "    string = ''\n",
    "    while(1):\n",
    "        mod = x % b\n",
    "        x = x // b\n",
    "        string = str(mod) + string\n",
    "        if x == 0:\n",
    "            return string\n",
    "def q5(b):\n",
    "    result = {}\n",
    "    for i in range(1,301):\n",
    "        x = i**2\n",
    "        changed_x = change_num(x, b)\n",
    "        if changed_x == changed_x[::-1]:\n",
    "            result[i] = changed_x\n",
    "    return result, len(result)"
   ]
  },
  {
   "cell_type": "code",
   "execution_count": 24,
   "metadata": {},
   "outputs": [
    {
     "data": {
      "text/plain": [
       "({1: '1',\n",
       "  2: '11',\n",
       "  4: '121',\n",
       "  10: '10201',\n",
       "  11: '11111',\n",
       "  20: '112211',\n",
       "  22: '122221',\n",
       "  28: '1002001',\n",
       "  34: '1120211',\n",
       "  56: '11022011',\n",
       "  82: '100020001',\n",
       "  89: '101212101',\n",
       "  113: '122111221',\n",
       "  154: '1012112101',\n",
       "  164: '1100220011',\n",
       "  244: '10000200001',\n",
       "  262: '10111011101'},\n",
       " 17)"
      ]
     },
     "execution_count": 24,
     "metadata": {},
     "output_type": "execute_result"
    }
   ],
   "source": [
    "q5(3)"
   ]
  },
  {
   "cell_type": "code",
   "execution_count": 25,
   "metadata": {},
   "outputs": [
    {
     "data": {
      "text/plain": [
       "({1: '1',\n",
       "  2: '4',\n",
       "  3: '9',\n",
       "  11: '121',\n",
       "  22: '484',\n",
       "  26: '676',\n",
       "  101: '10201',\n",
       "  111: '12321',\n",
       "  121: '14641',\n",
       "  202: '40804',\n",
       "  212: '44944',\n",
       "  264: '69696'},\n",
       " 12)"
      ]
     },
     "execution_count": 25,
     "metadata": {},
     "output_type": "execute_result"
    }
   ],
   "source": [
    "q5(10)"
   ]
  },
  {
   "cell_type": "code",
   "execution_count": null,
   "metadata": {},
   "outputs": [],
   "source": []
  }
 ],
 "metadata": {
  "kernelspec": {
   "display_name": "Python 3",
   "language": "python",
   "name": "python3"
  },
  "language_info": {
   "codemirror_mode": {
    "name": "ipython",
    "version": 3
   },
   "file_extension": ".py",
   "mimetype": "text/x-python",
   "name": "python",
   "nbconvert_exporter": "python",
   "pygments_lexer": "ipython3",
   "version": "3.6.8"
  }
 },
 "nbformat": 4,
 "nbformat_minor": 2
}
