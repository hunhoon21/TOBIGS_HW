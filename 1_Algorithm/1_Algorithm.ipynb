{
 "cells": [
  {
   "cell_type": "markdown",
   "metadata": {},
   "source": [
    "### 투빅스 1주차 알고리즘 과제\n",
    "과제 설명\n",
    "<img src=\"1wk_tobigs_algorithm-1.jpg\">\n",
    "<img src=\"1wk_tobigs_algorithm-2.jpg\">\n",
    "<img src=\"1wk_tobigs_algorithm-3.jpg\">\n",
    "<img src=\"1wk_tobigs_algorithm-4.jpg\">\n",
    "<img src=\"1wk_tobigs_algorithm-5.jpg\">\n",
    "<img src=\"1wk_tobigs_algorithm-6.jpg\">\n",
    "<img src=\"1wk_tobigs_algorithm-7.jpg\">\n"
   ]
  },
  {
   "cell_type": "code",
   "execution_count": null,
   "metadata": {},
   "outputs": [],
   "source": []
  },
  {
   "cell_type": "code",
   "execution_count": null,
   "metadata": {},
   "outputs": [],
   "source": []
  },
  {
   "cell_type": "code",
   "execution_count": 74,
   "metadata": {},
   "outputs": [],
   "source": [
    "#2번 문제\n",
    "def count_string(string, check):\n",
    "    count = 0\n",
    "    for s in range(len(string)-2):\n",
    "        if string[s:s+3] == check:\n",
    "            count += 1 \n",
    "    return count"
   ]
  },
  {
   "cell_type": "code",
   "execution_count": 75,
   "metadata": {},
   "outputs": [
    {
     "data": {
      "text/plain": [
       "3"
      ]
     },
     "execution_count": 75,
     "metadata": {},
     "output_type": "execute_result"
    }
   ],
   "source": [
    "count_string(\"ABCABCDABCABEABCDEFBCABCCA\", \"BCA\")"
   ]
  },
  {
   "cell_type": "code",
   "execution_count": 76,
   "metadata": {},
   "outputs": [],
   "source": [
    "#3번 문제\n",
    "def uncompress(string):\n",
    "    a = ''\n",
    "    for i in range(0, len(string), 2):\n",
    "        a += int(string[i]) * string[i+1]\n",
    "    return a"
   ]
  },
  {
   "cell_type": "code",
   "execution_count": 77,
   "metadata": {},
   "outputs": [
    {
     "data": {
      "text/plain": [
       "'aabbbbbc'"
      ]
     },
     "execution_count": 77,
     "metadata": {},
     "output_type": "execute_result"
    }
   ],
   "source": [
    "uncompress('2a5b1c')"
   ]
  },
  {
   "cell_type": "code",
   "execution_count": 78,
   "metadata": {},
   "outputs": [],
   "source": [
    "#4번 문제\n",
    "def count_vowel(string):\n",
    "    dict = {'a' : 0, 'e' : 0, 'i' : 0, 'o' : 0, 'u' : 0}\n",
    "    for i, char in enumerate(string):\n",
    "        if char in dict:\n",
    "            dict[char] += 1\n",
    "    return dict"
   ]
  },
  {
   "cell_type": "code",
   "execution_count": 79,
   "metadata": {},
   "outputs": [
    {
     "data": {
      "text/plain": [
       "{'a': 1, 'e': 1, 'i': 0, 'o': 1, 'u': 0}"
      ]
     },
     "execution_count": 79,
     "metadata": {},
     "output_type": "execute_result"
    }
   ],
   "source": [
    "count_vowel('temporary')"
   ]
  },
  {
   "cell_type": "code",
   "execution_count": 81,
   "metadata": {},
   "outputs": [],
   "source": [
    "#5번 문제\n",
    "import itertools\n",
    "def count_anagram(string):\n",
    "    print(set([\"\".join(list(ana)) for ana in list(itertools.permutations(string))]))\n",
    "    print(len(set([\"\".join(list(ana)) for ana in list(itertools.permutations(string))])))"
   ]
  },
  {
   "cell_type": "code",
   "execution_count": 82,
   "metadata": {},
   "outputs": [
    {
     "name": "stdout",
     "output_type": "stream",
     "text": [
      "{'pen', 'npe', 'nep', 'pne', 'enp', 'epn'}\n",
      "6\n"
     ]
    }
   ],
   "source": [
    "count_anagram(\"pen\")"
   ]
  },
  {
   "cell_type": "code",
   "execution_count": null,
   "metadata": {},
   "outputs": [],
   "source": []
  }
 ],
 "metadata": {
  "kernelspec": {
   "display_name": "Python 3",
   "language": "python",
   "name": "python3"
  },
  "language_info": {
   "codemirror_mode": {
    "name": "ipython",
    "version": 3
   },
   "file_extension": ".py",
   "mimetype": "text/x-python",
   "name": "python",
   "nbconvert_exporter": "python",
   "pygments_lexer": "ipython3",
   "version": "3.6.4"
  }
 },
 "nbformat": 4,
 "nbformat_minor": 2
}
