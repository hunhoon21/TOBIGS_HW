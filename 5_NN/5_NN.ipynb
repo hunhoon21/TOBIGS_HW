{
 "cells": [
  {
   "cell_type": "markdown",
   "metadata": {},
   "source": [
    "### Matrix 정리\n",
    "$ X == (N,D) $  \n",
    "$ W_1 == (D,H) $  \n",
    "$ b_1 == (H,) $  \n",
    "$ H == (N,H) $  \n",
    "$ A == (N,H) $  \n",
    "$ W_2 == (H,C) $  \n",
    "$ b_2 == (C,) $  \n",
    "$ S == (N,C) $  \n",
    "$ P == (N,C) $  "
   ]
  },
  {
   "cell_type": "markdown",
   "metadata": {},
   "source": [
    "### Matrix 미분 정리  \n",
    "$ H = XW + b\\qquad  (N, H) = (N, D) \\times (D, H) + (H,) $  \n",
    "$ L = f(H) $  \n",
    "$ {\\partial L \\over \\partial W} = X^T {\\partial L \\over \\partial H} = {\\partial H \\over \\partial W} \\times {\\partial L \\over \\partial H}$  \n",
    "$ {\\partial L \\over \\partial X} = {\\partial L \\over \\partial H} W^T = {\\partial L \\over \\partial H} \\times {\\partial H \\over \\partial X}$  \n",
    "$ {\\partial L \\over \\partial b} = 1*{\\partial L \\over \\partial H}  $  "
   ]
  },
  {
   "cell_type": "markdown",
   "metadata": {},
   "source": [
    "### 2 Layers Chain Rule 정리\n",
    "$ H = XW_1 + b_1$  \n",
    "$ A = ReLU(H) $  \n",
    "$ S = AW_2 + b_2 $  \n",
    "$ P = Softmax(S) $    \n",
    "$ L = -LogLikelihood(P) $  \n",
    "$ {\\partial L \\over \\partial S} = P - T $ : T는 Label  \n",
    "$ {\\partial L \\over \\partial W_2} = {\\partial S \\over \\partial W_2}{\\partial L \\over \\partial S} = A^T (P-T) $  \n",
    "$ {\\partial L \\over \\partial b_2} = 1 * {\\partial L \\over \\partial S} = P-T $  \n",
    "$ {\\partial L \\over \\partial A} = {\\partial L \\over \\partial S}{\\partial S \\over \\partial A} = (P-T)W_2^T $  \n",
    "$ {\\partial L \\over \\partial H} = (A>0) * {\\partial L \\over \\partial A} $  \n",
    "$ {\\partial L \\over \\partial W_1} = {\\partial H \\over \\partial W_1}{\\partial L \\over \\partial H} = X^T {\\partial L \\over \\partial H}  $  \n",
    "$ {\\partial L \\over \\partial b_1} = 1 * {\\partial L \\over \\partial H} = {\\partial L \\over \\partial H} $  "
   ]
  },
  {
   "cell_type": "markdown",
   "metadata": {},
   "source": [
    "### Softmax - Cross Entropy Error미분  \n",
    "<img src=\"img/fig a-5.png\">"
   ]
  },
  {
   "cell_type": "markdown",
   "metadata": {},
   "source": [
    "### 데이터 Load  \n",
    "cifar-10 데이터를 불러옵니다.  \n",
    "프레임워크 내 자체적으로 데이터를 로드할 수 있지만, \n",
    "이렇게도 데이터 로드가 가능합니다!  \n",
    "32  32  3 차원의 데이터를 3072 차원으로 바뀌는 것 까지 드릴게요."
   ]
  },
  {
   "cell_type": "code",
   "execution_count": 2,
   "metadata": {},
   "outputs": [],
   "source": [
    "from load_cifar_10 import *\n",
    "import numpy as np\n",
    "from Model import TwoLayerNet"
   ]
  },
  {
   "cell_type": "code",
   "execution_count": 3,
   "metadata": {},
   "outputs": [],
   "source": [
    "cifar_10_dir = 'cifar-10-batches-py'\n",
    "\n",
    "train_data, train_filenames, train_labels, test_data, test_filenames, test_labels, label_names = \\\n",
    "load_cifar_10_data(cifar_10_dir)\n",
    "\n",
    "def Processing_data(train, test):\n",
    "    #change dtype\n",
    "    train = np.array(train, dtype=np.float64)\n",
    "    test = np.array(test, dtype=np.float64)\n",
    "    \n",
    "    #Reshaping\n",
    "    train = np.reshape(train, (train.shape[0], -1))\n",
    "    test = np.reshape(test, (test.shape[0], -1))\n",
    "    \n",
    "    #Normalizing\n",
    "    mean_image = np.mean(train, axis = 0)\n",
    "    #print(train.dtype)\n",
    "    train -= mean_image\n",
    "    test -= mean_image\n",
    "    \n",
    "    return train, test"
   ]
  },
  {
   "cell_type": "code",
   "execution_count": 4,
   "metadata": {},
   "outputs": [],
   "source": [
    "train_data, test_data = Processing_data(train_data, test_data)"
   ]
  },
  {
   "cell_type": "code",
   "execution_count": 5,
   "metadata": {},
   "outputs": [
    {
     "name": "stdout",
     "output_type": "stream",
     "text": [
      "(50000, 3072)\n",
      "(50000,)\n",
      "(10000, 3072)\n",
      "(10000,)\n"
     ]
    }
   ],
   "source": [
    "print(train_data.shape)\n",
    "print(train_labels.shape)\n",
    "print(test_data.shape)\n",
    "print(test_labels.shape)"
   ]
  },
  {
   "cell_type": "markdown",
   "metadata": {},
   "source": [
    "너무 많으니까 5000개, 1000개만 사용합시다!"
   ]
  },
  {
   "cell_type": "code",
   "execution_count": 6,
   "metadata": {},
   "outputs": [],
   "source": [
    "train_data = train_data[:5000]\n",
    "train_labels = train_labels[:5000]\n",
    "test_data = test_data[:1000]\n",
    "test_labels = test_labels[:1000]"
   ]
  },
  {
   "cell_type": "markdown",
   "metadata": {},
   "source": [
    "### 데이터 확인  \n",
    "실제 데이터가 어떻게 생겼는지는 한번 확인해보세요!"
   ]
  },
  {
   "cell_type": "code",
   "execution_count": null,
   "metadata": {},
   "outputs": [],
   "source": []
  },
  {
   "cell_type": "markdown",
   "metadata": {},
   "source": [
    "### 하이퍼파라미터 설정  \n",
    "하이퍼파라미터를 설정하겠습니다.  \n",
    "hidden_size, epoch_size, batch_size, learning_rate 등은 전부 하이퍼 파라미터이니 바꿔서 해보세요."
   ]
  },
  {
   "cell_type": "code",
   "execution_count": 7,
   "metadata": {},
   "outputs": [],
   "source": [
    "input_size = 32 * 32 * 3\n",
    "hidden_size = 50\n",
    "output_size = 10\n",
    "epoch_size = 100\n",
    "batch_size = 100\n",
    "learning_rate = 0.0001\n",
    "N = train_data.shape[0]"
   ]
  },
  {
   "cell_type": "markdown",
   "metadata": {},
   "source": [
    "### 모델 만들기  \n",
    "input_size, hidden_size, output_size는 데이터에 맞게 잘 설정해주세요."
   ]
  },
  {
   "cell_type": "code",
   "execution_count": 8,
   "metadata": {},
   "outputs": [],
   "source": [
    "nn = TwoLayerNet(input_size=input_size, hidden_size=hidden_size, output_size=output_size)"
   ]
  },
  {
   "cell_type": "code",
   "execution_count": 9,
   "metadata": {},
   "outputs": [
    {
     "name": "stdout",
     "output_type": "stream",
     "text": [
      "0 accuracy : 0.096\n",
      "0 loss     : 2.3025797061229767\n",
      "10 accuracy : 0.2\n",
      "10 loss     : 2.302386337837527\n",
      "20 accuracy : 0.221\n",
      "20 loss     : 2.30178807898311\n",
      "30 accuracy : 0.214\n",
      "30 loss     : 2.2994188259014243\n",
      "40 accuracy : 0.188\n",
      "40 loss     : 2.29026118592787\n",
      "50 accuracy : 0.179\n",
      "50 loss     : 2.262049914089901\n",
      "60 accuracy : 0.2\n",
      "60 loss     : 2.213860723018405\n",
      "70 accuracy : 0.212\n",
      "70 loss     : 2.1681958091001645\n",
      "80 accuracy : 0.228\n",
      "80 loss     : 2.127215006529508\n",
      "90 accuracy : 0.251\n",
      "90 loss     : 2.093561289907336\n",
      "100 accuracy : 0.252\n",
      "100 loss     : 2.0670721062444453\n",
      "110 accuracy : 0.259\n",
      "110 loss     : 2.045793852348977\n",
      "120 accuracy : 0.257\n",
      "120 loss     : 2.027633874212309\n",
      "130 accuracy : 0.258\n",
      "130 loss     : 2.01150712363698\n",
      "140 accuracy : 0.268\n",
      "140 loss     : 1.997203150567354\n",
      "150 accuracy : 0.274\n",
      "150 loss     : 1.9831208062768264\n",
      "160 accuracy : 0.285\n",
      "160 loss     : 1.9691965013237878\n",
      "170 accuracy : 0.283\n",
      "170 loss     : 1.9560736623136215\n",
      "180 accuracy : 0.288\n",
      "180 loss     : 1.9411759175623184\n",
      "190 accuracy : 0.292\n",
      "190 loss     : 1.9258309751448346\n",
      "200 accuracy : 0.299\n",
      "200 loss     : 1.9093932916081358\n",
      "210 accuracy : 0.311\n",
      "210 loss     : 1.895326819362471\n",
      "220 accuracy : 0.315\n",
      "220 loss     : 1.8810226900323173\n",
      "230 accuracy : 0.326\n",
      "230 loss     : 1.8678886887884572\n",
      "240 accuracy : 0.33\n",
      "240 loss     : 1.8546110492404524\n",
      "250 accuracy : 0.328\n",
      "250 loss     : 1.8430625828063887\n",
      "260 accuracy : 0.337\n",
      "260 loss     : 1.8319042273181712\n",
      "270 accuracy : 0.344\n",
      "270 loss     : 1.8218621984155488\n",
      "280 accuracy : 0.345\n",
      "280 loss     : 1.8127355130000542\n",
      "290 accuracy : 0.352\n",
      "290 loss     : 1.804677770460301\n",
      "300 accuracy : 0.352\n",
      "300 loss     : 1.7956210922836635\n",
      "310 accuracy : 0.355\n",
      "310 loss     : 1.7870698437976054\n",
      "320 accuracy : 0.352\n",
      "320 loss     : 1.778962256673216\n",
      "330 accuracy : 0.351\n",
      "330 loss     : 1.7721505118794165\n",
      "340 accuracy : 0.357\n",
      "340 loss     : 1.7645124869074968\n",
      "350 accuracy : 0.353\n",
      "350 loss     : 1.7581084935517028\n",
      "360 accuracy : 0.357\n",
      "360 loss     : 1.752586907570121\n",
      "370 accuracy : 0.357\n",
      "370 loss     : 1.747714221565977\n",
      "380 accuracy : 0.363\n",
      "380 loss     : 1.7403917216964122\n",
      "390 accuracy : 0.357\n",
      "390 loss     : 1.7356730808185974\n",
      "400 accuracy : 0.362\n",
      "400 loss     : 1.7297837572293604\n",
      "410 accuracy : 0.367\n",
      "410 loss     : 1.7239518929007613\n",
      "420 accuracy : 0.37\n",
      "420 loss     : 1.719056997632661\n",
      "430 accuracy : 0.371\n",
      "430 loss     : 1.7146858032043957\n",
      "440 accuracy : 0.375\n",
      "440 loss     : 1.7104578979437357\n",
      "450 accuracy : 0.38\n",
      "450 loss     : 1.7064472647071662\n",
      "460 accuracy : 0.381\n",
      "460 loss     : 1.7024006485007457\n",
      "470 accuracy : 0.378\n",
      "470 loss     : 1.699610499607776\n",
      "480 accuracy : 0.389\n",
      "480 loss     : 1.6943325361222892\n",
      "490 accuracy : 0.392\n",
      "490 loss     : 1.6915040410439328\n",
      "500 accuracy : 0.389\n",
      "500 loss     : 1.6890817884722764\n",
      "510 accuracy : 0.389\n",
      "510 loss     : 1.686272269106864\n",
      "520 accuracy : 0.394\n",
      "520 loss     : 1.6826668505043787\n",
      "530 accuracy : 0.398\n",
      "530 loss     : 1.6803950412504163\n",
      "540 accuracy : 0.401\n",
      "540 loss     : 1.6775183012811463\n",
      "550 accuracy : 0.406\n",
      "550 loss     : 1.6743583679751441\n",
      "560 accuracy : 0.401\n",
      "560 loss     : 1.6724211743302217\n",
      "570 accuracy : 0.403\n",
      "570 loss     : 1.67045350381661\n",
      "580 accuracy : 0.407\n",
      "580 loss     : 1.668659903767867\n",
      "590 accuracy : 0.405\n",
      "590 loss     : 1.666820665976419\n",
      "600 accuracy : 0.407\n",
      "600 loss     : 1.664895488881259\n",
      "610 accuracy : 0.399\n",
      "610 loss     : 1.6625456863119192\n",
      "620 accuracy : 0.401\n",
      "620 loss     : 1.660492846850317\n",
      "630 accuracy : 0.405\n",
      "630 loss     : 1.6600225183458324\n",
      "640 accuracy : 0.408\n",
      "640 loss     : 1.6600354872081826\n",
      "650 accuracy : 0.402\n",
      "650 loss     : 1.6594734307267522\n",
      "660 accuracy : 0.405\n",
      "660 loss     : 1.6577375584472995\n",
      "670 accuracy : 0.408\n",
      "670 loss     : 1.6559410386026556\n",
      "680 accuracy : 0.409\n",
      "680 loss     : 1.6562864697585082\n",
      "690 accuracy : 0.401\n",
      "690 loss     : 1.6562015392510834\n",
      "700 accuracy : 0.405\n",
      "700 loss     : 1.654943322446858\n",
      "710 accuracy : 0.403\n",
      "710 loss     : 1.65456063805114\n",
      "720 accuracy : 0.398\n",
      "720 loss     : 1.6552104224034048\n",
      "730 accuracy : 0.403\n",
      "730 loss     : 1.6532017072326077\n",
      "740 accuracy : 0.401\n",
      "740 loss     : 1.6521138259556156\n",
      "750 accuracy : 0.4\n",
      "750 loss     : 1.6509288457083524\n",
      "760 accuracy : 0.396\n",
      "760 loss     : 1.6509392254434547\n",
      "770 accuracy : 0.398\n",
      "770 loss     : 1.65099508106626\n",
      "780 accuracy : 0.405\n",
      "780 loss     : 1.6503926297481162\n",
      "790 accuracy : 0.401\n",
      "790 loss     : 1.6521190324966846\n",
      "800 accuracy : 0.403\n",
      "800 loss     : 1.650286377968629\n",
      "810 accuracy : 0.401\n",
      "810 loss     : 1.6511316855722487\n",
      "820 accuracy : 0.402\n",
      "820 loss     : 1.6530938517796798\n",
      "830 accuracy : 0.4\n",
      "830 loss     : 1.6535012355717587\n",
      "840 accuracy : 0.396\n",
      "840 loss     : 1.6533907973391142\n",
      "850 accuracy : 0.401\n",
      "850 loss     : 1.6514490890706814\n",
      "860 accuracy : 0.396\n",
      "860 loss     : 1.6520589412272604\n",
      "870 accuracy : 0.4\n",
      "870 loss     : 1.6537257380238994\n",
      "880 accuracy : 0.404\n",
      "880 loss     : 1.6545757150638436\n",
      "890 accuracy : 0.401\n",
      "890 loss     : 1.6554907995660073\n",
      "900 accuracy : 0.405\n",
      "900 loss     : 1.6605653266096156\n",
      "910 accuracy : 0.398\n",
      "910 loss     : 1.658575481524775\n",
      "920 accuracy : 0.397\n",
      "920 loss     : 1.6600937372180133\n",
      "930 accuracy : 0.398\n",
      "930 loss     : 1.6603003085023318\n",
      "940 accuracy : 0.404\n",
      "940 loss     : 1.658746887639679\n",
      "950 accuracy : 0.404\n",
      "950 loss     : 1.6631962471046982\n",
      "960 accuracy : 0.401\n",
      "960 loss     : 1.6623715614954262\n",
      "970 accuracy : 0.406\n",
      "970 loss     : 1.6646509036592194\n",
      "980 accuracy : 0.402\n",
      "980 loss     : 1.6671000749273825\n",
      "990 accuracy : 0.401\n",
      "990 loss     : 1.6678628982561297\n"
     ]
    }
   ],
   "source": [
    "history = {'acc': [],'loss': []} #기록해서 그림 그리자!\n",
    "\n",
    "#코드를 보며 epoch, batch에 대해서 이해해봅시다.\n",
    "for i in range(epoch_size):\n",
    "    for j in range(N//batch_size):\n",
    "        batch_mask = np.random.choice(N, batch_size) #이번 배치에서 쓸 데이터들 인덱스 추출\n",
    "        x_batch = train_data[batch_mask]\n",
    "        t_batch = train_labels[batch_mask]\n",
    "        \n",
    "        nn.backward(x_batch, t_batch) # 가중치 갱신\n",
    "    \n",
    "    #accuracy와 loss를 기록해둡시다.\n",
    "    history[\"acc\"].append(nn.accuracy(test_data, test_labels))\n",
    "    history[\"loss\"].append(nn.forward(test_data, test_labels))\n",
    "    \n",
    "    if i % 10 == 0:\n",
    "        print(i, \"accuracy :\", nn.accuracy(test_data, test_labels))\n",
    "        print(i, \"loss     :\", nn.forward(test_data, test_labels))"
   ]
  },
  {
   "cell_type": "markdown",
   "metadata": {},
   "source": [
    "### 그림 그리기"
   ]
  },
  {
   "cell_type": "code",
   "execution_count": 14,
   "metadata": {},
   "outputs": [
    {
     "data": {
      "image/png": "[encoded data removed]",
      "text/plain": [
       "<Figure size 432x288 with 2 Axes>"
      ]
     },
     "metadata": {
      "needs_background": "light"
     },
     "output_type": "display_data"
    }
   ],
   "source": [
    "fig = plt.figure()\n",
    "ax_acc = fig.add_subplot(111)\n",
    "\n",
    "ax_acc.plot(range(epoch_size), history['acc'], label='정확도(%)', color='darkred')\n",
    "#plt.text(3, 14.7, \"<----------------정확도(%)\", verticalalignment='top', horizontalalignment='right')\n",
    "plt.xlabel('epochs')\n",
    "plt.ylabel('Accuracy(%)')\n",
    "ax_acc.grid(linestyle='--', color='lavender')\n",
    "ax_loss = ax_acc.twinx()\n",
    "ax_loss.plot(range(epoch_size), history['loss'], label='오차', color='darkblue')\n",
    "#plt.text(3, 2.2, \"<----------------오차\", verticalalignment='top', horizontalalignment='left')\n",
    "plt.ylabel('Error')\n",
    "ax_loss.yaxis.tick_right()\n",
    "ax_loss.grid(linestyle='--', color='lavender')\n",
    "\n",
    "# 그래프 표시\n",
    "plt.show()"
   ]
  }
 ],
 "metadata": {
  "kernelspec": {
   "display_name": "Python 3",
   "language": "python",
   "name": "python3"
  },
  "language_info": {
   "codemirror_mode": {
    "name": "ipython",
    "version": 3
   },
   "file_extension": ".py",
   "mimetype": "text/x-python",
   "name": "python",
   "nbconvert_exporter": "python",
   "pygments_lexer": "ipython3",
   "version": "3.6.8"
  }
 },
 "nbformat": 4,
 "nbformat_minor": 2
}
